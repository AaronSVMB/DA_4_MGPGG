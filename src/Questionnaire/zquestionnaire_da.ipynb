{
 "cells": [
  {
   "cell_type": "markdown",
   "metadata": {},
   "source": [
    "# Questionnaire Data Analysis Showcase"
   ]
  },
  {
   "cell_type": "markdown",
   "metadata": {},
   "source": [
    "## Imports"
   ]
  },
  {
   "cell_type": "code",
   "execution_count": 1,
   "metadata": {},
   "outputs": [],
   "source": [
    "from questionnaire_data_clean_utils import (questionnaire_reading_and_cleaning, questionnaire_concat_single_and_multi,\n",
    "                                            questionnaire_concat_larry_and_aaron)\n",
    "from questionnaire_stats import (gen_gender_dict, gen_age_dict, gen_grade_dict, gen_major_dict, gen_risk_dict,\n",
    "                                 gen_clarity_dict, gen_motivation_dict, gen_decision_style_aaron_dict)"
   ]
  },
  {
   "cell_type": "markdown",
   "metadata": {},
   "source": [
    "## On Session Data"
   ]
  },
  {
   "cell_type": "code",
   "execution_count": 2,
   "metadata": {},
   "outputs": [],
   "source": [
    "aaron_survey = questionnaire_reading_and_cleaning('/Users/aaronberman/Desktop/DA_4_MGPGG/SurveyQs_2023-09-10.csv')\n",
    "aaron_survey.drop(['player.perception', 'player.future', 'player.advice'], axis=1, inplace=True)"
   ]
  },
  {
   "cell_type": "code",
   "execution_count": 3,
   "metadata": {},
   "outputs": [],
   "source": [
    "larry_single_survey = questionnaire_reading_and_cleaning('/Users/aaronberman/Desktop/DA_4_MGPGG/LarrySingleSurvey_2023-09-10.csv')"
   ]
  },
  {
   "cell_type": "code",
   "execution_count": 4,
   "metadata": {},
   "outputs": [],
   "source": [
    "larry_multi_survey = questionnaire_reading_and_cleaning('/Users/aaronberman/Desktop/DA_4_MGPGG/LarryMultiSurvey_2023-09-10.csv')"
   ]
  },
  {
   "cell_type": "code",
   "execution_count": 5,
   "metadata": {},
   "outputs": [],
   "source": [
    "combined_larry_survey = questionnaire_concat_single_and_multi(larry_single_survey, larry_multi_survey)"
   ]
  },
  {
   "cell_type": "code",
   "execution_count": 6,
   "metadata": {},
   "outputs": [],
   "source": [
    "all_questionnaire_df = questionnaire_concat_larry_and_aaron(combined_larry_survey, aaron_survey)"
   ]
  },
  {
   "cell_type": "code",
   "execution_count": 7,
   "metadata": {},
   "outputs": [],
   "source": [
    "all_questionnaire_df.to_csv('all_questionnaire_df.csv', index=False)"
   ]
  },
  {
   "cell_type": "code",
   "execution_count": 8,
   "metadata": {},
   "outputs": [
    {
     "data": {
      "text/plain": [
       "{'female': 47, 'male': 16, 'other': 1}"
      ]
     },
     "execution_count": 8,
     "metadata": {},
     "output_type": "execute_result"
    }
   ],
   "source": [
    "gender_dict = gen_gender_dict(all_questionnaire_df)\n",
    "gender_dict"
   ]
  },
  {
   "cell_type": "code",
   "execution_count": 9,
   "metadata": {},
   "outputs": [
    {
     "data": {
      "text/plain": [
       "{19.0: 21, 20.0: 16, 21.0: 11, 18.0: 10, 22.0: 3, 29.0: 1, 32.0: 1, 23.0: 1}"
      ]
     },
     "execution_count": 9,
     "metadata": {},
     "output_type": "execute_result"
    }
   ],
   "source": [
    "age_dict = gen_age_dict(all_questionnaire_df)\n",
    "age_dict"
   ]
  },
  {
   "cell_type": "code",
   "execution_count": 10,
   "metadata": {},
   "outputs": [
    {
     "data": {
      "text/plain": [
       "{'freshman': 8, 'sophomore': 25, 'junior': 12, 'senior': 15, 'graduate': 4}"
      ]
     },
     "execution_count": 10,
     "metadata": {},
     "output_type": "execute_result"
    }
   ],
   "source": [
    "grade_dict = gen_grade_dict(all_questionnaire_df)\n",
    "grade_dict"
   ]
  },
  {
   "cell_type": "code",
   "execution_count": 11,
   "metadata": {},
   "outputs": [
    {
     "data": {
      "text/plain": [
       "{'Business': 4,\n",
       " 'Business Administration': 4,\n",
       " 'psychology': 3,\n",
       " 'SCC': 3,\n",
       " 'Economics': 2,\n",
       " 'Communication Studies': 2,\n",
       " 'health science': 2,\n",
       " 'Computer Science': 2,\n",
       " 'Creative Producing': 2,\n",
       " 'Business Admin.': 1,\n",
       " 'Public Relations, Advertising, Entertainment Marketing': 1,\n",
       " 'IES': 1,\n",
       " 'film': 1,\n",
       " 'Software Engineering ': 1,\n",
       " 'Film and Tv production': 1,\n",
       " 'Undeclared': 1,\n",
       " 'Business Admin': 1,\n",
       " 'Writing for Film and Television': 1,\n",
       " 'Comm': 1,\n",
       " 'Education ': 1,\n",
       " 'Business-Entrepreneurship': 1,\n",
       " 'Animation and VFX': 1,\n",
       " 'law': 1,\n",
       " 'Computer science': 1,\n",
       " 'Business Administration- Finance': 1,\n",
       " 'Computational and Data Sciences': 1,\n",
       " 'business': 1,\n",
       " 'Health Science': 1,\n",
       " 'computer science': 1,\n",
       " 'Political science ': 1,\n",
       " 'psych': 1,\n",
       " 'undeclared': 1,\n",
       " 'English': 1,\n",
       " 'Environmental Science & Policy': 1,\n",
       " 'Screenwriting': 1,\n",
       " 'UNdeclared': 1,\n",
       " 'Political Science, Philosophy': 1,\n",
       " 'business administration': 1,\n",
       " 'Graphic Design': 1,\n",
       " 'Biochemistry and Molecular Biology': 1,\n",
       " 'Bus': 1,\n",
       " 'Broadcast journalism and documentary': 1,\n",
       " 'economics': 1,\n",
       " 'applied human': 1,\n",
       " 'Busines Admin & Economics': 1,\n",
       " 'Psych and Business Admin': 1,\n",
       " 'Broadcast Journalism': 1,\n",
       " 'psychology ': 1,\n",
       " 'accounting': 1}"
      ]
     },
     "execution_count": 11,
     "metadata": {},
     "output_type": "execute_result"
    }
   ],
   "source": [
    "major_dict = gen_major_dict(all_questionnaire_df)\n",
    "major_dict"
   ]
  },
  {
   "cell_type": "code",
   "execution_count": 12,
   "metadata": {},
   "outputs": [
    {
     "data": {
      "text/plain": [
       "{'strongly disagree': 0,\n",
       " 'disagree': 5,\n",
       " 'slightly disagree': 9,\n",
       " 'neutral': 8,\n",
       " 'slightly agree': 20,\n",
       " 'agree': 19,\n",
       " 'strongly agree': 3}"
      ]
     },
     "execution_count": 12,
     "metadata": {},
     "output_type": "execute_result"
    }
   ],
   "source": [
    "risk_dict = gen_risk_dict(all_questionnaire_df)\n",
    "risk_dict"
   ]
  },
  {
   "cell_type": "code",
   "execution_count": 13,
   "metadata": {},
   "outputs": [
    {
     "data": {
      "text/plain": [
       "{'strongly disagree': 3,\n",
       " 'disagree': 4,\n",
       " 'agree': 39,\n",
       " 'strongly agree': 17,\n",
       " 'dont know': 1}"
      ]
     },
     "execution_count": 13,
     "metadata": {},
     "output_type": "execute_result"
    }
   ],
   "source": [
    "clarity_dict = gen_clarity_dict(all_questionnaire_df)\n",
    "clarity_dict"
   ]
  },
  {
   "cell_type": "code",
   "execution_count": 14,
   "metadata": {},
   "outputs": [],
   "source": [
    "maximize_own_dict = gen_motivation_dict(all_questionnaire_df, 'player.reason_own')\n",
    "maximize_group_dict = gen_motivation_dict(all_questionnaire_df, 'player.reason_group')\n",
    "coax_group_dict = gen_motivation_dict(all_questionnaire_df, 'player.reason_conditional')\n",
    "reason_experiment_dict = gen_motivation_dict(all_questionnaire_df, 'player.reason_experiment')\n",
    "reason_respond_dict = gen_motivation_dict(all_questionnaire_df, 'player.reason_adjust')\n",
    "reason_influence_dict = gen_motivation_dict(all_questionnaire_df, 'player.reason_future_rounds')\n",
    "aaron_facts_dict, aarons_feelings_dict = gen_decision_style_aaron_dict(all_questionnaire_df)"
   ]
  },
  {
   "cell_type": "code",
   "execution_count": 15,
   "metadata": {},
   "outputs": [
    {
     "data": {
      "text/plain": [
       "{'strongly agree': 23,\n",
       " 'agree': 21,\n",
       " 'disagree': 1,\n",
       " 'strongly disagree': 2,\n",
       " 'uncertain': 1}"
      ]
     },
     "execution_count": 15,
     "metadata": {},
     "output_type": "execute_result"
    }
   ],
   "source": [
    "maximize_own_dict"
   ]
  },
  {
   "cell_type": "code",
   "execution_count": 16,
   "metadata": {},
   "outputs": [
    {
     "data": {
      "text/plain": [
       "{'strongly agree': 8,\n",
       " 'agree': 19,\n",
       " 'disagree': 8,\n",
       " 'strongly disagree': 8,\n",
       " 'uncertain': 5}"
      ]
     },
     "execution_count": 16,
     "metadata": {},
     "output_type": "execute_result"
    }
   ],
   "source": [
    "maximize_group_dict"
   ]
  },
  {
   "cell_type": "code",
   "execution_count": 17,
   "metadata": {},
   "outputs": [
    {
     "data": {
      "text/plain": [
       "{'strongly agree': 16,\n",
       " 'agree': 15,\n",
       " 'disagree': 6,\n",
       " 'strongly disagree': 8,\n",
       " 'uncertain': 3}"
      ]
     },
     "execution_count": 17,
     "metadata": {},
     "output_type": "execute_result"
    }
   ],
   "source": [
    "coax_group_dict"
   ]
  },
  {
   "cell_type": "code",
   "execution_count": 18,
   "metadata": {},
   "outputs": [
    {
     "data": {
      "text/plain": [
       "{'strongly agree': 21,\n",
       " 'agree': 19,\n",
       " 'disagree': 3,\n",
       " 'strongly disagree': 5,\n",
       " 'uncertain': 0}"
      ]
     },
     "execution_count": 18,
     "metadata": {},
     "output_type": "execute_result"
    }
   ],
   "source": [
    "reason_experiment_dict"
   ]
  },
  {
   "cell_type": "code",
   "execution_count": 19,
   "metadata": {},
   "outputs": [
    {
     "data": {
      "text/plain": [
       "{'strongly agree': 24,\n",
       " 'agree': 16,\n",
       " 'disagree': 4,\n",
       " 'strongly disagree': 4,\n",
       " 'uncertain': 0}"
      ]
     },
     "execution_count": 19,
     "metadata": {},
     "output_type": "execute_result"
    }
   ],
   "source": [
    "reason_respond_dict"
   ]
  },
  {
   "cell_type": "code",
   "execution_count": 20,
   "metadata": {},
   "outputs": [
    {
     "data": {
      "text/plain": [
       "{'strongly agree': 11,\n",
       " 'agree': 10,\n",
       " 'disagree': 8,\n",
       " 'strongly disagree': 6,\n",
       " 'uncertain': 13}"
      ]
     },
     "execution_count": 20,
     "metadata": {},
     "output_type": "execute_result"
    }
   ],
   "source": [
    "reason_influence_dict"
   ]
  },
  {
   "cell_type": "code",
   "execution_count": 21,
   "metadata": {},
   "outputs": [
    {
     "data": {
      "text/plain": [
       "{'always': 8, 'usually': 6, 'sometimes': 2, 'rarely': 0, 'never': 0}"
      ]
     },
     "execution_count": 21,
     "metadata": {},
     "output_type": "execute_result"
    }
   ],
   "source": [
    "aaron_facts_dict"
   ]
  },
  {
   "cell_type": "code",
   "execution_count": 22,
   "metadata": {},
   "outputs": [
    {
     "data": {
      "text/plain": [
       "{'always': 1, 'usually': 8, 'sometimes': 6, 'rarely': 0, 'never': 1}"
      ]
     },
     "execution_count": 22,
     "metadata": {},
     "output_type": "execute_result"
    }
   ],
   "source": [
    "aarons_feelings_dict"
   ]
  }
 ],
 "metadata": {
  "kernelspec": {
   "display_name": "base",
   "language": "python",
   "name": "python3"
  },
  "language_info": {
   "codemirror_mode": {
    "name": "ipython",
    "version": 3
   },
   "file_extension": ".py",
   "mimetype": "text/x-python",
   "name": "python",
   "nbconvert_exporter": "python",
   "pygments_lexer": "ipython3",
   "version": "3.9.12"
  },
  "orig_nbformat": 4
 },
 "nbformat": 4,
 "nbformat_minor": 2
}
