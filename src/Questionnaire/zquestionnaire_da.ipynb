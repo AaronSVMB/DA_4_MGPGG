{
 "cells": [
  {
   "cell_type": "markdown",
   "metadata": {},
   "source": [
    "# Questionnaire Data Analysis Showcase"
   ]
  },
  {
   "cell_type": "markdown",
   "metadata": {},
   "source": [
    "## Imports"
   ]
  },
  {
   "cell_type": "code",
   "execution_count": 1,
   "metadata": {},
   "outputs": [],
   "source": [
    "from questionnaire_data_clean_utils import (questionnaire_reading_and_cleaning, questionnaire_concat_single_and_multi,\n",
    "                                            questionnaire_concat_larry_and_aaron)\n",
    "from questionnaire_stats import (gen_gender_dict, gen_age_dict, gen_grade_dict, gen_major_dict, gen_risk_dict,\n",
    "                                 gen_clarity_dict, gen_motivation_dict, gen_decision_style_aaron_dict)"
   ]
  },
  {
   "cell_type": "markdown",
   "metadata": {},
   "source": [
    "## On Session Data"
   ]
  },
  {
   "cell_type": "code",
   "execution_count": 2,
   "metadata": {},
   "outputs": [],
   "source": [
    "aaron_survey = questionnaire_reading_and_cleaning('/Users/aaronberman/Desktop/DA_4_MGPGG/ToDate/SurveyQs_2023-09-16.csv')\n",
    "aaron_survey.drop(['player.perception', 'player.future', 'player.advice'], axis=1, inplace=True)"
   ]
  },
  {
   "cell_type": "code",
   "execution_count": 3,
   "metadata": {},
   "outputs": [],
   "source": [
    "larry_single_survey = questionnaire_reading_and_cleaning('/Users/aaronberman/Desktop/DA_4_MGPGG/ToDate/LarrySingleSurvey_2023-09-16.csv')"
   ]
  },
  {
   "cell_type": "code",
   "execution_count": 4,
   "metadata": {},
   "outputs": [],
   "source": [
    "larry_multi_survey = questionnaire_reading_and_cleaning('/Users/aaronberman/Desktop/DA_4_MGPGG/ToDate/LarryMultiSurvey_2023-09-16.csv')"
   ]
  },
  {
   "cell_type": "code",
   "execution_count": 5,
   "metadata": {},
   "outputs": [],
   "source": [
    "combined_larry_survey = questionnaire_concat_single_and_multi(larry_single_survey, larry_multi_survey)"
   ]
  },
  {
   "cell_type": "code",
   "execution_count": 6,
   "metadata": {},
   "outputs": [],
   "source": [
    "all_questionnaire_df = questionnaire_concat_larry_and_aaron(combined_larry_survey, aaron_survey)"
   ]
  },
  {
   "cell_type": "code",
   "execution_count": 7,
   "metadata": {},
   "outputs": [],
   "source": [
    "all_questionnaire_df.to_csv('all_questionnaire_df.csv', index=False)"
   ]
  },
  {
   "cell_type": "code",
   "execution_count": 8,
   "metadata": {},
   "outputs": [
    {
     "data": {
      "text/plain": [
       "{'female': 114, 'male': 43, 'other': 3}"
      ]
     },
     "execution_count": 8,
     "metadata": {},
     "output_type": "execute_result"
    }
   ],
   "source": [
    "gender_dict = gen_gender_dict(all_questionnaire_df)\n",
    "gender_dict"
   ]
  },
  {
   "cell_type": "code",
   "execution_count": 9,
   "metadata": {},
   "outputs": [
    {
     "data": {
      "text/plain": [
       "{19.0: 64, 20.0: 32, 18.0: 28, 21.0: 25, 22.0: 8, 29.0: 1, 32.0: 1, 23.0: 1}"
      ]
     },
     "execution_count": 9,
     "metadata": {},
     "output_type": "execute_result"
    }
   ],
   "source": [
    "age_dict = gen_age_dict(all_questionnaire_df)\n",
    "age_dict"
   ]
  },
  {
   "cell_type": "code",
   "execution_count": 10,
   "metadata": {},
   "outputs": [
    {
     "data": {
      "text/plain": [
       "{'freshman': 23, 'sophomore': 70, 'junior': 28, 'senior': 34, 'graduate': 5}"
      ]
     },
     "execution_count": 10,
     "metadata": {},
     "output_type": "execute_result"
    }
   ],
   "source": [
    "grade_dict = gen_grade_dict(all_questionnaire_df)\n",
    "grade_dict"
   ]
  },
  {
   "cell_type": "code",
   "execution_count": 11,
   "metadata": {},
   "outputs": [
    {
     "data": {
      "text/plain": [
       "{'Business': 9,\n",
       " 'psychology': 7,\n",
       " 'Business Administration': 7,\n",
       " 'Psychology': 6,\n",
       " 'Computer Science': 5,\n",
       " 'Business Admin': 5,\n",
       " 'Creative Writing': 5,\n",
       " 'business': 4,\n",
       " 'SCC': 4,\n",
       " 'English': 3,\n",
       " 'Communication Studies': 3,\n",
       " 'Data Science': 3,\n",
       " 'health science': 3,\n",
       " 'Economics': 3,\n",
       " 'computer science': 2,\n",
       " 'Political Science': 2,\n",
       " 'Public Relations, Advertising, Entertainment Marketing': 2,\n",
       " 'Business Administration - Finance': 2,\n",
       " 'Undeclared': 2,\n",
       " 'Health Science': 2,\n",
       " 'Creative Producing': 2,\n",
       " 'Health Sciences': 2,\n",
       " 'Writing for Film and Television': 2,\n",
       " 'Animation and VFX': 2,\n",
       " 'Screenwriting': 2,\n",
       " 'Econ': 1,\n",
       " 'Business-Entrepreneurship': 1,\n",
       " 'Biology': 1,\n",
       " 'Accounting + Business Real Estate': 1,\n",
       " 'Theatre': 1,\n",
       " 'Buisness': 1,\n",
       " 'Undecided': 1,\n",
       " 'law': 1,\n",
       " 'Bus Admin - Finance': 1,\n",
       " 'Film & TV [Prod': 1,\n",
       " 'Computer science': 1,\n",
       " 'Pre-Pharmacy': 1,\n",
       " 'Business Administration- Finance': 1,\n",
       " 'Education ': 1,\n",
       " 'Theatre BA': 1,\n",
       " 'Public Relations, Advertising, and Entertainment Marketing': 1,\n",
       " 'Strategic and Corporate Communication': 1,\n",
       " 'PR, Advertising, & Entertainment Marketing': 1,\n",
       " 'Physics': 1,\n",
       " 'bus admin': 1,\n",
       " 'Animation': 1,\n",
       " 'Bus Admin, Actg': 1,\n",
       " 'Psychology ': 1,\n",
       " 'health sciences': 1,\n",
       " 'Computer Scence': 1,\n",
       " 'Communications ': 1,\n",
       " 'Bio': 1,\n",
       " 'Communication Studies/French': 1,\n",
       " 'Software Engineering': 1,\n",
       " 'BIOCHEM': 1,\n",
       " 'Television Writing and Production': 1,\n",
       " 'Comm': 1,\n",
       " 'Business Admin.': 1,\n",
       " 'Film and Tv production': 1,\n",
       " 'sociology': 1,\n",
       " 'undeclared ': 1,\n",
       " 'poltical science and history': 1,\n",
       " 'Studio Art': 1,\n",
       " 'Applied Human Physiology': 1,\n",
       " 'Economics and Religious Studies ': 1,\n",
       " 'Business Adminstration w/ emphasis in Marketing. Minior in Data Analytics ': 1,\n",
       " 'communcations': 1,\n",
       " 'Graphic Design': 1,\n",
       " 'Software Engineering ': 1,\n",
       " 'business administration': 1,\n",
       " 'Political Science, Philosophy': 1,\n",
       " 'UNdeclared': 1,\n",
       " 'Environmental Science & Policy': 1,\n",
       " 'undeclared': 1,\n",
       " 'psych': 1,\n",
       " 'Political science ': 1,\n",
       " 'Business ': 1,\n",
       " 'Business Marketing': 1,\n",
       " 'Business Admin - Finance': 1,\n",
       " 'data science': 1,\n",
       " 'film': 1,\n",
       " 'IES': 1,\n",
       " 'Computational and Data Sciences': 1,\n",
       " 'psychology ': 1,\n",
       " 'Broadcast Journalism': 1,\n",
       " 'Psych and Business Admin': 1,\n",
       " 'Busines Admin & Economics': 1,\n",
       " 'applied human': 1,\n",
       " 'economics': 1,\n",
       " 'Broadcast journalism and documentary': 1,\n",
       " 'Bus': 1,\n",
       " 'Biochemistry and Molecular Biology': 1,\n",
       " 'Finance': 1,\n",
       " 'Broadcast Journalism & Documentary ': 1,\n",
       " 'poli sci and global comm': 1,\n",
       " 'accounting': 1}"
      ]
     },
     "execution_count": 11,
     "metadata": {},
     "output_type": "execute_result"
    }
   ],
   "source": [
    "major_dict = gen_major_dict(all_questionnaire_df)\n",
    "major_dict"
   ]
  },
  {
   "cell_type": "code",
   "execution_count": 12,
   "metadata": {},
   "outputs": [
    {
     "data": {
      "text/plain": [
       "{'strongly disagree': 0,\n",
       " 'disagree': 12,\n",
       " 'slightly disagree': 26,\n",
       " 'neutral': 13,\n",
       " 'slightly agree': 58,\n",
       " 'agree': 41,\n",
       " 'strongly agree': 10}"
      ]
     },
     "execution_count": 12,
     "metadata": {},
     "output_type": "execute_result"
    }
   ],
   "source": [
    "risk_dict = gen_risk_dict(all_questionnaire_df)\n",
    "risk_dict"
   ]
  },
  {
   "cell_type": "code",
   "execution_count": 13,
   "metadata": {},
   "outputs": [
    {
     "data": {
      "text/plain": [
       "{'strongly disagree': 5,\n",
       " 'disagree': 22,\n",
       " 'agree': 87,\n",
       " 'strongly agree': 41,\n",
       " 'dont know': 5}"
      ]
     },
     "execution_count": 13,
     "metadata": {},
     "output_type": "execute_result"
    }
   ],
   "source": [
    "clarity_dict = gen_clarity_dict(all_questionnaire_df)\n",
    "clarity_dict"
   ]
  },
  {
   "cell_type": "code",
   "execution_count": 14,
   "metadata": {},
   "outputs": [],
   "source": [
    "maximize_own_dict = gen_motivation_dict(all_questionnaire_df, 'player.reason_own')\n",
    "maximize_group_dict = gen_motivation_dict(all_questionnaire_df, 'player.reason_group')\n",
    "coax_group_dict = gen_motivation_dict(all_questionnaire_df, 'player.reason_conditional')\n",
    "reason_experiment_dict = gen_motivation_dict(all_questionnaire_df, 'player.reason_experiment')\n",
    "reason_respond_dict = gen_motivation_dict(all_questionnaire_df, 'player.reason_adjust')\n",
    "reason_influence_dict = gen_motivation_dict(all_questionnaire_df, 'player.reason_future_rounds')\n",
    "aaron_facts_dict, aarons_feelings_dict = gen_decision_style_aaron_dict(all_questionnaire_df)"
   ]
  },
  {
   "cell_type": "code",
   "execution_count": 15,
   "metadata": {},
   "outputs": [
    {
     "data": {
      "text/plain": [
       "{'strongly agree': 67,\n",
       " 'agree': 65,\n",
       " 'disagree': 7,\n",
       " 'strongly disagree': 2,\n",
       " 'uncertain': 3}"
      ]
     },
     "execution_count": 15,
     "metadata": {},
     "output_type": "execute_result"
    }
   ],
   "source": [
    "maximize_own_dict"
   ]
  },
  {
   "cell_type": "code",
   "execution_count": 16,
   "metadata": {},
   "outputs": [
    {
     "data": {
      "text/plain": [
       "{'strongly agree': 16,\n",
       " 'agree': 60,\n",
       " 'disagree': 35,\n",
       " 'strongly disagree': 19,\n",
       " 'uncertain': 14}"
      ]
     },
     "execution_count": 16,
     "metadata": {},
     "output_type": "execute_result"
    }
   ],
   "source": [
    "maximize_group_dict"
   ]
  },
  {
   "cell_type": "code",
   "execution_count": 17,
   "metadata": {},
   "outputs": [
    {
     "data": {
      "text/plain": [
       "{'strongly agree': 30,\n",
       " 'agree': 64,\n",
       " 'disagree': 24,\n",
       " 'strongly disagree': 14,\n",
       " 'uncertain': 12}"
      ]
     },
     "execution_count": 17,
     "metadata": {},
     "output_type": "execute_result"
    }
   ],
   "source": [
    "coax_group_dict"
   ]
  },
  {
   "cell_type": "code",
   "execution_count": 18,
   "metadata": {},
   "outputs": [
    {
     "data": {
      "text/plain": [
       "{'strongly agree': 53,\n",
       " 'agree': 70,\n",
       " 'disagree': 7,\n",
       " 'strongly disagree': 9,\n",
       " 'uncertain': 5}"
      ]
     },
     "execution_count": 18,
     "metadata": {},
     "output_type": "execute_result"
    }
   ],
   "source": [
    "reason_experiment_dict"
   ]
  },
  {
   "cell_type": "code",
   "execution_count": 19,
   "metadata": {},
   "outputs": [
    {
     "data": {
      "text/plain": [
       "{'strongly agree': 57,\n",
       " 'agree': 60,\n",
       " 'disagree': 12,\n",
       " 'strongly disagree': 12,\n",
       " 'uncertain': 3}"
      ]
     },
     "execution_count": 19,
     "metadata": {},
     "output_type": "execute_result"
    }
   ],
   "source": [
    "reason_respond_dict"
   ]
  },
  {
   "cell_type": "code",
   "execution_count": 20,
   "metadata": {},
   "outputs": [
    {
     "data": {
      "text/plain": [
       "{'strongly agree': 25,\n",
       " 'agree': 40,\n",
       " 'disagree': 26,\n",
       " 'strongly disagree': 14,\n",
       " 'uncertain': 39}"
      ]
     },
     "execution_count": 20,
     "metadata": {},
     "output_type": "execute_result"
    }
   ],
   "source": [
    "reason_influence_dict"
   ]
  },
  {
   "cell_type": "code",
   "execution_count": 21,
   "metadata": {},
   "outputs": [
    {
     "data": {
      "text/plain": [
       "{'always': 8, 'usually': 6, 'sometimes': 2, 'rarely': 0, 'never': 0}"
      ]
     },
     "execution_count": 21,
     "metadata": {},
     "output_type": "execute_result"
    }
   ],
   "source": [
    "aaron_facts_dict"
   ]
  },
  {
   "cell_type": "code",
   "execution_count": 22,
   "metadata": {},
   "outputs": [
    {
     "data": {
      "text/plain": [
       "{'always': 1, 'usually': 8, 'sometimes': 6, 'rarely': 0, 'never': 1}"
      ]
     },
     "execution_count": 22,
     "metadata": {},
     "output_type": "execute_result"
    }
   ],
   "source": [
    "aarons_feelings_dict"
   ]
  }
 ],
 "metadata": {
  "kernelspec": {
   "display_name": "base",
   "language": "python",
   "name": "python3"
  },
  "language_info": {
   "codemirror_mode": {
    "name": "ipython",
    "version": 3
   },
   "file_extension": ".py",
   "mimetype": "text/x-python",
   "name": "python",
   "nbconvert_exporter": "python",
   "pygments_lexer": "ipython3",
   "version": "3.9.12"
  },
  "orig_nbformat": 4
 },
 "nbformat": 4,
 "nbformat_minor": 2
}
