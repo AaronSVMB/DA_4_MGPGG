{
 "cells": [
  {
   "cell_type": "markdown",
   "metadata": {},
   "source": [
    "# Questionnaire Short Answer Text Analysis"
   ]
  },
  {
   "cell_type": "markdown",
   "metadata": {},
   "source": [
    "## Imports"
   ]
  },
  {
   "cell_type": "code",
   "execution_count": 1,
   "metadata": {},
   "outputs": [],
   "source": [
    "import pandas as pd\n",
    "import numpy as np\n",
    "from sklearn.feature_extraction.text import TfidfVectorizer\n",
    "from sklearn.cluster import KMeans\n",
    "from sklearn.metrics import silhouette_score\n",
    "import matplotlib.pyplot as plt"
   ]
  },
  {
   "cell_type": "code",
   "execution_count": null,
   "metadata": {},
   "outputs": [],
   "source": [
    "import re\n",
    "from word2number import w2n"
   ]
  },
  {
   "cell_type": "markdown",
   "metadata": {},
   "source": [
    "## Read Data"
   ]
  },
  {
   "cell_type": "code",
   "execution_count": 2,
   "metadata": {},
   "outputs": [
    {
     "name": "stderr",
     "output_type": "stream",
     "text": [
      "/var/folders/ry/bf84d3cd54jctn_cwy_5666m0000gn/T/ipykernel_15462/463833470.py:1: DtypeWarning: Columns (215,216) have mixed types. Specify dtype option on import or set low_memory=False.\n",
      "  mgpggdf = pd.read_csv('/Users/aaronberman/Desktop/DA_4_MGPGG/src/zBigData/mgpgg_df_all_sessions.csv')\n"
     ]
    }
   ],
   "source": [
    "mgpggdf = pd.read_csv('/Users/aaronberman/Desktop/DA_4_MGPGG/src/zBigData/mgpgg_df_all_sessions.csv')"
   ]
  },
  {
   "cell_type": "markdown",
   "metadata": {},
   "source": [
    "## Basic Stats"
   ]
  },
  {
   "cell_type": "code",
   "execution_count": 3,
   "metadata": {},
   "outputs": [
    {
     "name": "stdout",
     "output_type": "stream",
     "text": [
      "174.21121650536855\n"
     ]
    }
   ],
   "source": [
    "print(mgpggdf['player.time_spent_survey_one'].mean())"
   ]
  },
  {
   "cell_type": "markdown",
   "metadata": {},
   "source": [
    "## Preprocessing "
   ]
  },
  {
   "cell_type": "code",
   "execution_count": 4,
   "metadata": {},
   "outputs": [],
   "source": [
    "filtered_df = mgpggdf[mgpggdf['subsession.round_number'] == 1]\n",
    "\n",
    "compare_groups_responses = [x for x in filtered_df['player.compare_groups'].tolist() if pd.notna(x)]\n",
    "reasoning_responses = [x for x in filtered_df['player.reasoning'].tolist() if pd.notna(x)]\n",
    "signaling_responses = [x for x in filtered_df['player.signaling'].tolist() if pd.notna(x)]\n"
   ]
  },
  {
   "cell_type": "code",
   "execution_count": 16,
   "metadata": {},
   "outputs": [
    {
     "data": {
      "text/plain": [
       "[\"I saw that more people were investing more in the green group, so I put more of my investments into that group. I'm unsure if it worked, but that was how I thought about investing my points. \",\n",
       " \"At first I didn't invest much because I naturally though people would just be greedy, then it looked like everybody started putting points in and eventually we were all putting 10 at a time. The green group was going up so I started to put 10 in, but the Blue wasn't moving so i kept all \",\n",
       " 'I do not have a preference in which groups i invested in to be completely honest',\n",
       " 'I knew that investing 0 guaranteed me to keep 20 or more points every time so I played it safe. ',\n",
       " 'first experiment blue was investing a lot so i went all in but green wasnt so i didnt',\n",
       " 'At first I was trying to evaluate the total amount that was going to be invested by both groups. On the Blue group there was general concensus that everyone was investing their 10 pints. On the green group nobody was investing until late when I started investing all my points to the green group. Then I realized I was making 40 but if I invested 3 or less and everybody kept on investing their 10 points, then I could make more than 40 points.',\n",
       " 'I would invest all or nothing depending on how much the group would invest. The Blue group all invested fully so I did too. The Green was decreasing to the point I would be even with no investment so I stopped. ',\n",
       " 'I would invest more if I saw my other group mates were also investing more. That way, our total group earnings would be larger. If I noticed my group mates were contributing less, I would do the same.',\n",
       " 'Usually I would see who invested more and on the next turn I would try to match it',\n",
       " 'it depended on how much the others invested as a group',\n",
       " 'Depending on my historical ROI, I adjusted how much I chose to invest.',\n",
       " 'I tried to base it off of which group had a larger total investment.',\n",
       " \"I personally tried my best to invest as much as I could into the group joint account with the hope that everyone in my group would do the same. Even when some people didn't invest much I kept investing most of my points into the joint account in case somebody in my group figured out that by putting all our points together we can have the biggest return. \",\n",
       " 'If I saw that others were investing more in one group account than the other, I would invest more in that group account so the overall total group investment would be higher and the individual shares would also be higher',\n",
       " \"It mostly depended on what people have previously invested. Through that, it made me want to invest more or less depending if I felt like group members weren't willing to invest in the group. If I saw earnings go up, when I invested more, I was more likely to put in more the next period.\",\n",
       " 'The amount of their respective group account investment',\n",
       " \"At first I was investing a lot because I felt it was the smarter strategy if my group went along with it, but when I saw that they weren't I started to invest less so that I would make more.\",\n",
       " 'I just experimented and saw which one I got more points from.',\n",
       " 'I picked the group that gave me the most earnings and also the group were the members invested more themselves. For me, the green group invested a lot more than the blue group and also gave me more earnings, so I decided to invest more into the green group. ',\n",
       " 'I invested more because I thought the rest of my group would invest more which would mean we would make more. However, after the first 4 rounds in the first period I realized I was the only person investing more so I started to invest less. ',\n",
       " 'I gambled quite a lot this time. Went big in many of the options.',\n",
       " 'I was watching the table and tried to find a pattern after the first few rounds, to see which group had more people willing to invest more. I usually invest more in the more generous group. ',\n",
       " 'I was seeing what how other people were investing, if there was patterns. Mostly it was confusion and guessing. If I did not know, I put 50/50.',\n",
       " '1',\n",
       " 'Honestly I just decided to risk it and see what happens',\n",
       " \"What led me to invest more or less in one group's account was to base off how much money was already in it. The less there was, the less I was willing to invest.\",\n",
       " 'Just generally tried to invest the same as I knew the more everyone invested the higher the payout',\n",
       " 'I typically invested equally into both groups accounts. A few times I switched it up to see how it would affect my points but it never did anything major so I just left it even for most of the time.',\n",
       " \"I knew that investing less in the group account would make my Personal Account bigger, so I chose not to invest a lot into the group's account.\",\n",
       " 'I invested more because if others were also going to do the same the pay off would be better off than just keeping the points in my personal account',\n",
       " 'if one group had less overall investments than another',\n",
       " 'I honestly just kept the same for both. They were both pretty even, so I stayed consistent as well. ',\n",
       " 'I didnt have a strategy but I looked at previous trends and tried to make choices based on the past successful results. ',\n",
       " 'One group seemed to be investing more overall during the periods, so I chose to invest more as well.',\n",
       " \"At the beginning there wasn't really a thought process on which group  would invest in. During the later parts I would try to invest what would get me the highest return to maximize my profits.\",\n",
       " 'Seeing how much my peers invested was the reason for any fluctuation in group investment. I would invest more than my share unless the number of other investment constantly dropped, then I would lower my amount',\n",
       " 'I mainly based it off of what the average was or something that would even out so that I would still have a good amount in my personal account.',\n",
       " 'To be honest I did not really think much about it and what I was doing. There were 20 different periods so I figured I would just do different things at different times with different amounts.',\n",
       " 'I realized that the less I invested, the more I got to keep for myself. For example, if I invested 2 points I would keep 18 for myself and my addition to the group would only give me back 1 point, for a total of 19 points when I could just keep all 20 instead.',\n",
       " 'I was honestly winging it for the most part. When my total from one period was lower than $25, I would change my method to the complete opposite to see if my earnings increased. If I saw that fewer money was invested in a group, I would invest less money.',\n",
       " \"I based my decisions off the group's total investment. If the total was bigger I would invest more and vice versa.\",\n",
       " 'My investments were rather consistent after the first couple at $0 for each group. I originally did $0 in each group as a joke, just to see, but I was surprised that I still received points from the joint account even after investing nothing into it. So after that realization, it was more profitable to invest nothing and keep the $20 and earn whatever the joint group invested as extra. It was also safer than investing all out, which I also did as a test, as I had nothing to lose by investing nothing. ',\n",
       " 'I wanted to invest less and have security in my earnings rather than having it depend on the choices of other people ',\n",
       " 'once i saw that people were not investing as much or at all into the group account, i stopped investing all together since every point i invested was really half a point and it was not worth it when no one else invested as well',\n",
       " 'I started with a relatively low investment and if I noticed a trend that people were placing a higher investment in one group then another I would invest more in that group. I also tried a few rounds of putting higher and lower investments into the group to see how the results would fair. ',\n",
       " 'im not to familiar with investing but once the group account was lower, i would lower it as well.',\n",
       " 'I for the most part invested the same amount into both accounts, I was really just trying to gauge how much the other group members were going to invest',\n",
       " \"I was not actively comparing the groups. I was mostly looking at just my investment, the group average, and my individual payoff for a given group. I was sometimes hoping that one group would invest as much as the other but I don't think that affected my decision-making all that much.\",\n",
       " 'I chose to put in 1/2 my points into the group and to my personal account. I did this so that Our group pot can be greater, and hopefully earn me more points. Yet I kept 5 points just in case no one else invested and I would still have some points in my personal account. ',\n",
       " 'I experimented with different investment amounts and also looked at what the past average amounts other people in the two groups were investing. I saw that More people had a tendency to invest more in green. After experimenting with investing certain amounts I found the best amount invested that worked best for me was 4 in blue and 4 in green. ',\n",
       " 'If more people were investing in a certain group it made me want to also invest more in that group so the split value was bigger.',\n",
       " 'Based on previous patterns and what I anticipated others to invest',\n",
       " 'Depending on the amounts I saw earned me more points and how much my team was investing affected how much I chose to invest in them.',\n",
       " \"I wasn't sure exactly how the experiment was working so I tinkered around with the numbers and did my best to see if I could identify a pattern. I went up and down the scale to see if investing more or less money worked and if I invested a different amount in the two groups, I would only invest a number apart \",\n",
       " \"If one group was investing more, I would feel more obligated to invest more in that group's account because it would be more profittable\",\n",
       " 'If the blue group for example had 12 in total investments and the green group had 6, I would invest more in the green group next time in the expectation that people would invest more in the other one. But I soon found more success investing more in the one that had more investments previously.',\n",
       " 'The group that made the most profit for me made me want to invest in them more.',\n",
       " \"How much other people were investing into the same group. I didn't want to be contributing a majority of my endowment if someone else isn't paying their share\",\n",
       " 'I started by investing the maximum amount, because if everyone in the group did that we would have the most earnings. However, as the rounds progressed the amount in the group account kept getting smaller so I chose to invest in the blue account, because more people contributed to it.',\n",
       " 'I paid attention to the trends I was seeing with how many total points there were in each period, such as green always having more points than blue.',\n",
       " 'I invested more in the first account usually because I thought other people would too because its what they first saw.',\n",
       " 'At first I was fully prepared to put a large portion of my endowment into both accounts. I understood that if everyone took part in this, we could get 40 points per round. After the first round, it was apparent that people were investing more in one group than another. I started investing differently based on how everyone else was investing.',\n",
       " 'As I noticed patterns in other peoples investments I started to follow suite.',\n",
       " 'trying to do quick math to see how i would make the most even if others didnt invest a lot',\n",
       " 'I would try to invest in lower depending on whichever I felt like.',\n",
       " 'I started to see that one group was investing less, so I started to invest less.',\n",
       " 'personally, it was random on how much i invested in terms of how much i would invest in one group vs the other.',\n",
       " 'Basing it off prior investments and seeing how the numbers changed and how I could get the most points.',\n",
       " 'I would invest more in one group if I saw they were more likely to reciprocate with investments of their own. I would be less inclined to invest in a group where there was less total investments from others.',\n",
       " 'It really came down to how much people were putting in each. People were putting more into the blue group, so I was comfortable putting more money in my self so that It would encourage other people to keep putting their money into it. With the green group however, not many people were putting that much in, so I also did not put that much in so that I could maximize how much I could gain under the circumstances.',\n",
       " 'It depended on what the other members in the group had put down. The more they put down, I would put more down as well. ',\n",
       " \"I noticed that more people contributed to the blue group so I added more money to that. The more money contributed to either account, the more you would make but I don't think a lot of people caught onto that.\",\n",
       " \"I sort of went off of what everyone else was doing. From what I understood, if a lot of people did not invest in the group fund, it didn't make worthwile returns. So when I noticed that investment started to slow from the groups, I favored my personal account more. \",\n",
       " 'They were about the same',\n",
       " 'When the group was not putting in enough money on average, I decided to put less in to save some to my personal account and increase my earnings. However, when the other group was putting in more money, I also put more money in to encourage them to continue putting in the money. However, sometimes I invested it evenly as there was a minimal difference.',\n",
       " 'I am not very good at math but I wanted to keep my personal points high so I invested less into the group account',\n",
       " \"I didn't really distinguish any differences between blue or green group, I invested the same in both\",\n",
       " 'I think I invested lesser amounts in the first experiment because when I invested less it yielded the highest returns for myself. So by looking at the numbers it was more beneficial to me to invest less.',\n",
       " 'If others  were tending to not invest as much, I would follow what they did. I also noticed just giving each 5 dollars was a fair amount and left me with a solid amount of points in the end.',\n",
       " 'i think i made decisions based on what i was able to invest and comparing it to how it would affect the other groups account. ',\n",
       " 'If one group was contributing more, I was more inclined to put more money towards that groups account.',\n",
       " 'I thought the less I invested, the more I saved.',\n",
       " 'Seeing the previous totals in a groups account led to me deciding to either match the group that was lower or higher. But after a while, I started to invest with whatever I felt like at that moment.  ',\n",
       " \"If the other group members were also investing a lot then I chose to invest a lot also, but if they weren't I didn't invest a lot. \",\n",
       " 'I put more into my personal account',\n",
       " 'I wanted to not invest that much because I thought that my group would invest more and for the most part when I invested less we earned more points. When I did invest more we did get less points so I decided just to keep on investing less points. ',\n",
       " 'If more people invest in one group, I was more inclined to invest more into that group. If others are putting their resources into that group, I would be willing to do the same to lead to a higher end result ',\n",
       " 'I invested less in green in hopes that people would invest more to give me more money',\n",
       " 'Some people play investments too safe, If everyone were to invest the full amount, we would all exponentially increase our earnings',\n",
       " 'when other people invested more I invested more',\n",
       " \"I mostly tried to keep it even because in my head and through my questionable calculations, I'm pretty sure each group would make more money total if everyone invested a lot in each, so I mostly did 9 and 9 or 10 and 10. One or two times I did 15 in the higher earning one (where more people seemed to be putting their money) but I noticed it didn't make me earn more, so I went back to doing half and half regardless of other's investment. \",\n",
       " 'I invested the same amount in each group',\n",
       " 'I invested more into the blue account since my peers were also investing. I got really mad when my peers in my green group were ALL not investing multiple rounds, in which I was the only one so I just put zero for the remainder. Actually got me so mad lol!!!',\n",
       " 'Risk taking and wanting to test out which way was best in making the most money for myself or my team. ',\n",
       " 'I would invest more in a group if the other members were also investing a lot. If a group was not investing much I would not either.',\n",
       " 'If I chose not to invest anything, I would always get more than if I did invest something.',\n",
       " 'what had an impact on my investments was the investments of others',\n",
       " 'I paid attention to how much people were investing and the average and tried to match. ',\n",
       " 'Based on if I thought they were going to invest a little or a lot.',\n",
       " 'I mostly split my points evenly excluding a couple rounds where I noticed that one group was offering less returns than the other and so I invested in the one that offered more return.',\n",
       " 'I felt that if more people invested money I would invest less so that I would get both benefits from my personal account and the payout from the joint accounts as well',\n",
       " 'It was dependent on how much my group put into our investments. If it was higher, I was more open to investing more rather than keeping it in my personal account. ',\n",
       " \"I found that whenever I invested less in another group's account, I received more points compared to when I invested more. The points I received each round led me to decide how much I would invest in the following period.\",\n",
       " 'The risk involved with investing more along with the habits of other investors',\n",
       " 'Whichever numbers in investments showed me a pattern of more point earnings is what I followed. With blue I saw more mathematical advantage than with green for Part 1 for example.',\n",
       " 'I just thought that the more i put the more ill get.',\n",
       " 'I would invest more in the struggling accounts in an attempt to revive them. ',\n",
       " 'If I noticed that one group was getting a higher total investment from the other members, I would also invest a little more into that group account the next round.',\n",
       " 'I thought about how much total money there is.',\n",
       " 'Seeing how unmotivated people were to invest',\n",
       " \"I think I got confused on how the total investment worked and I would get upset my Green people weren't investing as much as me so I decided to prioritize blue since I was getting more out of it. \",\n",
       " 'I wanted personal money.',\n",
       " 'I noticed a trend that more people were investing in the Blue account over the green account and decided to experiment with varying degrees of investment to Blue. There were some risks with putting all my points into Blue and most of them did not pan out well but I was curious to know how it would affect the earnings',\n",
       " 'the order of arrangment of the teams, left to right',\n",
       " 'I started out investing equally and the payoff was better than if I had put any into my personal. Then I noticed other people were investing more in the blue side so I did that too to increase the division result and reduce losses from other accounts.',\n",
       " 'About halfway through the first experiment I realized I would always come out on top if I held my money rather than put it in the group account. Say P=0, B=40, G=40 (I invested $10 in B and G respectively), I would walk away with 0 + 40/2 + 40/2 = 40. However, if I held my money in that scenario, P=20, B=30, G=30, then I would walk away with 20 + 30/2 + 30/2 = 50. I just wish I realized this earlier on in the experiment haha.',\n",
       " 'At a certain point I realized collectively we were all investing more money in the blue account than the green account, so I followed. ',\n",
       " \"I invested more in the group that also proved that they invested more. If the other group did not invest anything I did not either. I did not want them to take my savings if they weren't going to contribute.\",\n",
       " \"I like the color blue better than I like green, so I felt more motivated to put money into that group. I knew that it would be better for me if I input nothing into the group, but I didn't care about that as much as having fun putting points into the system and helping the group out.\",\n",
       " 'I went off gut feeling.',\n",
       " 'The first couple of periods, I was not thinking too much, just trying to gauge how much each group invested. I realized the blue group was investing more per period so I put more into that group because I was earning more points than when I invested into the green group.',\n",
       " 'Nothing in particular',\n",
       " 'Based on trends and patterns',\n",
       " 'There was no order I just put the first number that came to mind.',\n",
       " \"I did not have any logical reason at the beginning as to why I decided to invest more in one group's account versus the other group's account. Towards the end, I recognized that the others in my groups were starting to invest less and less, and I stopped investing as much to protect my earnings.\",\n",
       " 'I was trying to find patterns in the ways other students were investing and/or try to anticipate how they might invest next.',\n",
       " \"I invested equally into both accounts each time, but I don't really know why. Once I realized that you made 0.5 of all the group earnings despite what you invest, I just put the minimum amount in for each group as possible.\",\n",
       " 'i invested based on my past earnings and took risks depending on how i thought the outcome would be.',\n",
       " 'Seeing group totals in one account be consistently higher than the other, usually for a few rounds at least.',\n",
       " 'As the overall group investment went down in my Green Group, I also lowered my investment. However, in my blue group, investments seemed to stay at a constant value which allowed for me to make some money off of it while investing about 5-10$. ',\n",
       " 'I invested less because I saw that I was gaining more points that way so I continued to do so.',\n",
       " 'I Invested the same almost every time except when I saw there was a trend in investing higher in one group. I ended up only doing that once because it did not work out better.',\n",
       " 'I tried to equally distribute between the three groups. Sometimes I would invest more in the groups accounts since it seemed to have a bit more weight in terms of more points.',\n",
       " 'saw more output in blue, so invested more in blue',\n",
       " 'One group consistently invested a significant portion of money into the shared account, meaning greater overall profits for all of us, whereas the other group multiple members seemed to not fund at all so it was simply losing money to invest there.',\n",
       " 'I invested the same amount in both groups every time because there was nothing that made me want to invest more or less into either.',\n",
       " \"Blue was very rude and didn't deserve my money\",\n",
       " \"once i saw tht other people investing less then i stopped investing as well. Why put in something when others won't do the same \",\n",
       " \"I played things somewhat safe to ensure that even if my period earnings were low, they'd at least be consistent. Then I gradually noticed higher totals in the green group than the blue group, so I tried only investing to the green group and putting in 0 to the blue group. \",\n",
       " 'I followed the pattern after each period. ',\n",
       " 'payed attention to how lower numbers got higher earnings to each group',\n",
       " \"If the total group account was 5 points higher than the other group, I would invest more in that group's account because I believed that the other people in that higher group would continue investing around the same, if not more as they also saw the numbers.\",\n",
       " \"I didn't change the numbers based on which group it was because I don't know anyone associated with any of the groups, so I ended up giving a consistent 5 dollars to both blue and green.\",\n",
       " 'I invested in groups with equal contributions split across parties or that showed higher returns. If I noticed my individual contribution made up more than a quarter of the group investment,  I lowered mine accordingly and vice versa.']"
      ]
     },
     "execution_count": 16,
     "metadata": {},
     "output_type": "execute_result"
    }
   ],
   "source": [
    "compare_groups_responses\n",
    "reasoning_responses\n",
    "signaling_responses"
   ]
  },
  {
   "cell_type": "code",
   "execution_count": null,
   "metadata": {},
   "outputs": [],
   "source": [
    "def preprocess_text(text):\n",
    "    # Lowercase the text\n",
    "    text = text.lower()\n",
    "    \n",
    "    # Replace numbers with their word equivalents\n",
    "    def replace_with_words(match):\n",
    "        number = match.group(0)\n",
    "        try:\n",
    "            return w2n.word_to_num(number)\n",
    "        except:\n",
    "            return number\n",
    "        \n",
    "    text = re.sub(r'\\b\\d+\\b', replace_with_words, text)\n",
    "    \n",
    "    # Removing punctuation (you might need to expand this list for other punctuations)\n",
    "    text = re.sub(r'[^\\w\\s]', '', text)\n",
    "    \n",
    "    return text\n",
    "\n",
    "# Apply the preprocessing to a list of survey responses\n",
    "def preprocess_responses(responses):\n",
    "    return [preprocess_text(response) for response in responses]\n",
    "\n",
    "# Test\n",
    "sample_responses = [\n",
    "    \"Hello, I have 4 apples and 20 oranges!\",\n",
    "    \"I bought 15 candies.\"\n",
    "]\n",
    "preprocessed_responses = preprocess_responses(sample_responses)\n",
    "print(preprocessed_responses)\n"
   ]
  },
  {
   "cell_type": "markdown",
   "metadata": {},
   "source": [
    "## K-means Clustering"
   ]
  },
  {
   "cell_type": "code",
   "execution_count": null,
   "metadata": {},
   "outputs": [],
   "source": [
    "compare_groups_responses\n",
    "reasoning_responses\n",
    "signaling_responses"
   ]
  },
  {
   "cell_type": "code",
   "execution_count": 9,
   "metadata": {},
   "outputs": [],
   "source": [
    "vectorizer = TfidfVectorizer(stop_words='english', max_df=0.85)\n",
    "X = vectorizer.fit_transform(compare_groups_responses)"
   ]
  },
  {
   "cell_type": "code",
   "execution_count": 11,
   "metadata": {},
   "outputs": [
    {
     "data": {
      "image/png": "[encoded data removed]",
      "text/plain": [
       "<Figure size 432x288 with 1 Axes>"
      ]
     },
     "metadata": {
      "needs_background": "light"
     },
     "output_type": "display_data"
    }
   ],
   "source": [
    "# Elbow method\n",
    "wcss = []\n",
    "for i in range(1, 11):\n",
    "    kmeans = KMeans(n_clusters=i, init='k-means++', max_iter=300, n_init=10, random_state=0)\n",
    "    kmeans.fit(X)\n",
    "    wcss.append(kmeans.inertia_)\n",
    "\n",
    "# Plotting the results\n",
    "plt.plot(range(1, 11), wcss)\n",
    "plt.title('Elbow Method')\n",
    "plt.xlabel('Number of clusters')\n",
    "plt.ylabel('WCSS')\n",
    "plt.show()\n"
   ]
  },
  {
   "cell_type": "code",
   "execution_count": 12,
   "metadata": {},
   "outputs": [],
   "source": [
    "optimal_clusters = 6  # Change this based on your Elbow plot\n",
    "kmeans = KMeans(n_clusters=optimal_clusters, init='k-means++', max_iter=300, n_init=10, random_state=0)\n",
    "predicted_clusters = kmeans.fit_predict(X)\n"
   ]
  },
  {
   "cell_type": "code",
   "execution_count": 13,
   "metadata": {},
   "outputs": [
    {
     "name": "stdout",
     "output_type": "stream",
     "text": [
      "Cluster 0:\n",
      "3      I knew that investing 0 guaranteed me to keep ...\n",
      "12     I personally tried my best to invest as much a...\n",
      "17     I just experimented and saw which one I got mo...\n",
      "24     Honestly I just decided to risk it and see wha...\n",
      "27     I typically invested equally into both groups ...\n",
      "29     I invested more because if others were also go...\n",
      "31     I honestly just kept the same for both. They w...\n",
      "37     To be honest I did not really think much about...\n",
      "38     I realized that the less I invested, the more ...\n",
      "41     My investments were rather consistent after th...\n",
      "48     I chose to put in 1/2 my points into the group...\n",
      "52     Depending on the amounts I saw earned me more ...\n",
      "59     I paid attention to the trends I was seeing wi...\n",
      "67     Basing it off prior investments and seeing how...\n",
      "75     I am not very good at math but I wanted to kee...\n",
      "78     If others  were tending to not invest as much,...\n",
      "85     I wanted to not invest that much because I tho...\n",
      "99     I mostly split my points evenly excluding a co...\n",
      "102    I found that whenever I invested less in anoth...\n",
      "112    I noticed a trend that more people were invest...\n",
      "123    There was no order I just put the first number...\n",
      "130    I invested less because I saw that I was gaini...\n",
      "Name: Response, dtype: object\n",
      "\n",
      "\n",
      "Cluster 1:\n",
      "16     At first I was investing a lot because I felt ...\n",
      "20     I gambled quite a lot this time. Went big in m...\n",
      "25     What led me to invest more or less in one grou...\n",
      "28     I knew that investing less in the group accoun...\n",
      "32     I didnt have a strategy but I looked at previo...\n",
      "36     I mainly based it off of what the average was ...\n",
      "45     im not to familiar with investing but once the...\n",
      "50     If more people were investing in a certain gro...\n",
      "54     If one group was investing more, I would feel ...\n",
      "58     I started by investing the maximum amount, bec...\n",
      "63     trying to do quick math to see how i would mak...\n",
      "71     I noticed that more people contributed to the ...\n",
      "72     I sort of went off of what everyone else was d...\n",
      "79     i think i made decisions based on what i was a...\n",
      "80     If one group was contributing more, I was more...\n",
      "83     If the other group members were also investing...\n",
      "84                   I put more into my personal account\n",
      "94     I would invest more in a group if the other me...\n",
      "95     If I chose not to invest anything, I would alw...\n",
      "100    I felt that if more people invested money I wo...\n",
      "116    At a certain point I realized collectively we ...\n",
      "119                              I went off gut feeling.\n",
      "124    I did not have any logical reason at the begin...\n",
      "Name: Response, dtype: object\n",
      "\n",
      "\n",
      "Cluster 2:\n",
      "7      I would invest more if I saw my other group ma...\n",
      "11     I tried to base it off of which group had a la...\n",
      "13     If I saw that others were investing more in on...\n",
      "15     The amount of their respective group account i...\n",
      "26     Just generally tried to invest the same as I k...\n",
      "30     if one group had less overall investments than...\n",
      "33     One group seemed to be investing more overall ...\n",
      "35     Seeing how much my peers invested was the reas...\n",
      "44     I started with a relatively low investment and...\n",
      "47     I was not actively comparing the groups. I was...\n",
      "82     Seeing the previous totals in a groups account...\n",
      "86     If more people invest in one group, I was more...\n",
      "101    It was dependent on how much my group put into...\n",
      "107    If I noticed that one group was getting a high...\n",
      "128    Seeing group totals in one account be consiste...\n",
      "129    As the overall group investment went down in m...\n",
      "131    I Invested the same almost every time except w...\n",
      "134    One group consistently invested a significant ...\n",
      "138    I played things somewhat safe to ensure that e...\n",
      "140    payed attention to how lower numbers got highe...\n",
      "141    If the total group account was 5 points higher...\n",
      "143    I invested in groups with equal contributions ...\n",
      "Name: Response, dtype: object\n",
      "\n",
      "\n",
      "Cluster 3:\n",
      "6      I would invest all or nothing depending on how...\n",
      "8      Usually I would see who invested more and on t...\n",
      "9      it depended on how much the others invested as...\n",
      "10     Depending on my historical ROI, I adjusted how...\n",
      "14     It mostly depended on what people have previou...\n",
      "18     I picked the group that gave me the most earni...\n",
      "21     I was watching the table and tried to find a p...\n",
      "23                                                     1\n",
      "42     I wanted to invest less and have security in m...\n",
      "46     I for the most part invested the same amount i...\n",
      "51     Based on previous patterns and what I anticipa...\n",
      "55     If the blue group for example had 12 in total ...\n",
      "56     The group that made the most profit for me mad...\n",
      "57     How much other people were investing into the ...\n",
      "64     I would try to invest in lower depending on wh...\n",
      "66     personally, it was random on how much i invest...\n",
      "68     I would invest more in one group if I saw they...\n",
      "70     It depended on what the other members in the g...\n",
      "73                              They were about the same\n",
      "77     I think I invested lesser amounts in the first...\n",
      "88     Some people play investments too safe, If ever...\n",
      "89       when other people invested more I invested more\n",
      "91              I invested the same amount in each group\n",
      "96     what had an impact on my investments was the i...\n",
      "104    Whichever numbers in investments showed me a p...\n",
      "106    I would invest more in the struggling accounts...\n",
      "109         Seeing how unmotivated people were to invest\n",
      "113    the order of arrangment of the teams, left to ...\n",
      "117    I invested more in the group that also proved ...\n",
      "118    I like the color blue better than I like green...\n",
      "121                                Nothing in particular\n",
      "122                         Based on trends and patterns\n",
      "126    I invested equally into both accounts each tim...\n",
      "133    saw more output in blue, so invested more in blue\n",
      "135    I invested the same amount in both groups ever...\n",
      "139           I followed the pattern after each period. \n",
      "Name: Response, dtype: object\n",
      "\n",
      "\n",
      "Cluster 4:\n",
      "34     At the beginning there wasn't really a thought...\n",
      "39     I was honestly winging it for the most part. W...\n",
      "40     I based my decisions off the group's total inv...\n",
      "53     I wasn't sure exactly how the experiment was w...\n",
      "60     I invested more in the first account usually b...\n",
      "69     It really came down to how much people were pu...\n",
      "74     When the group was not putting in enough money...\n",
      "81      I thought the less I invested, the more I saved.\n",
      "87     I invested less in green in hopes that people ...\n",
      "90     I mostly tried to keep it even because in my h...\n",
      "93     Risk taking and wanting to test out which way ...\n",
      "98     Based on if I thought they were going to inves...\n",
      "105    I just thought that the more i put the more il...\n",
      "108       I thought about how much total money there is.\n",
      "111                             I wanted personal money.\n",
      "127    i invested based on my past earnings and took ...\n",
      "136       Blue was very rude and didn't deserve my money\n",
      "Name: Response, dtype: object\n",
      "\n",
      "\n",
      "Cluster 5:\n",
      "0      I saw that more people were investing more in ...\n",
      "1      At first I didn't invest much because I natura...\n",
      "2      I do not have a preference in which groups i i...\n",
      "4      first experiment blue was investing a lot so i...\n",
      "5      At first I was trying to evaluate the total am...\n",
      "19     I invested more because I thought the rest of ...\n",
      "22     I was seeing what how other people were invest...\n",
      "43     once i saw that people were not investing as m...\n",
      "49     I experimented with different investment amoun...\n",
      "61     At first I was fully prepared to put a large p...\n",
      "62     As I noticed patterns in other peoples investm...\n",
      "65     I started to see that one group was investing ...\n",
      "76     I didn't really distinguish any differences be...\n",
      "92     I invested more into the blue account since my...\n",
      "97     I paid attention to how much people were inves...\n",
      "103    The risk involved with investing more along wi...\n",
      "110    I think I got confused on how the total invest...\n",
      "114    I started out investing equally and the payoff...\n",
      "115    About halfway through the first experiment I r...\n",
      "120    The first couple of periods, I was not thinkin...\n",
      "125    I was trying to find patterns in the ways othe...\n",
      "132    I tried to equally distribute between the thre...\n",
      "137    once i saw tht other people investing less the...\n",
      "142    I didn't change the numbers based on which gro...\n",
      "Name: Response, dtype: object\n",
      "\n",
      "\n"
     ]
    }
   ],
   "source": [
    "df = pd.DataFrame(compare_groups_responses, columns=['Response'])\n",
    "df['Cluster'] = predicted_clusters\n",
    "\n",
    "# Viewing responses per cluster\n",
    "for i in range(optimal_clusters):\n",
    "    print(f\"Cluster {i}:\")\n",
    "    print(df[df['Cluster'] == i]['Response'])\n",
    "    print(\"\\n\")\n"
   ]
  },
  {
   "cell_type": "code",
   "execution_count": null,
   "metadata": {},
   "outputs": [],
   "source": [
    "order_centroids = kmeans.cluster_centers_.argsort()[:, ::-1]\n",
    "terms = vectorizer.get_feature_names()\n",
    "\n",
    "for i in range(optimal_clusters):\n",
    "    print(f\"Cluster {i}:\")\n",
    "    for ind in order_centroids[i, :10]:  # Top 10 terms per cluster\n",
    "        print(terms[ind])\n",
    "    print(\"\\n\")\n"
   ]
  },
  {
   "cell_type": "markdown",
   "metadata": {},
   "source": [
    "### Keyword Analysis"
   ]
  },
  {
   "cell_type": "code",
   "execution_count": null,
   "metadata": {},
   "outputs": [],
   "source": [
    "from summarizer import KeywordSummarizer\n",
    "\n",
    "def extract_keywords_bert(docs, n_keywords=5):\n",
    "    model = KeywordSummarizer(model_name='bert-base-uncased')\n",
    "    keywords = []\n",
    "    for doc in docs:\n",
    "        key = model.extract_keywords(doc, key_count=n_keywords)\n",
    "        keywords.append([k[0] for k in key])\n",
    "    return keywords\n"
   ]
  }
 ],
 "metadata": {
  "kernelspec": {
   "display_name": "base",
   "language": "python",
   "name": "python3"
  },
  "language_info": {
   "codemirror_mode": {
    "name": "ipython",
    "version": 3
   },
   "file_extension": ".py",
   "mimetype": "text/x-python",
   "name": "python",
   "nbconvert_exporter": "python",
   "pygments_lexer": "ipython3",
   "version": "3.9.12"
  },
  "orig_nbformat": 4
 },
 "nbformat": 4,
 "nbformat_minor": 2
}
