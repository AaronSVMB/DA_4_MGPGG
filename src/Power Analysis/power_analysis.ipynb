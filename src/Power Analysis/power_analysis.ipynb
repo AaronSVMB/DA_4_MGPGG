{
 "cells": [
  {
   "cell_type": "markdown",
   "metadata": {},
   "source": [
    "# Power Analysis"
   ]
  },
  {
   "cell_type": "markdown",
   "metadata": {},
   "source": [
    "Currently, with our pilot data from the Shared Endowment Treatment, we can conduct a simple power analysis against Falk, Fischbacher, and Gächter (2013) to estimate the sample size (number of subjects we will need) for our experiment. \n",
    "\n",
    "From FFG, I have access to relatively little raw data information, but the average contribution for the first 5 rounds of their experiment is explicitly listed as 11.3 tokens, the contribution for the last 5 rounds is 7.0 and the final round is 3.4 tokens. With this, I propose taking the avg contribution or the first 5 rounds across both groups, comparing that to our own, and using this as the difference in means. Key to remember is that FFG utilize 2 separate endowments of 20 points (40 points total) and we utilize one endowments of 20 points. So for these means to be comparable, I will convert the means to percents of the endowment received that is invested in the public good. For FFG this is 11.3 / 40 which corresponds to the average percent of endowment given to the public good in the first 5 periods. \n",
    "\n",
    "For this analysis, I will be assuming that the standard deviations are the same, since I do not have access to the FFG data.\n",
    "\n",
    "This power analysis tells me that we will need 77 (rounded to 80 to be a multiple of 16) subjects in the Shared endowment treatment and the Separate/Split endowment treatment to detect a statistically significant treatment difference when alpha is 0.05 and the power is 0.8. This currently rests on the assumption that our standard deviation is the same as FFG (2013) which is most likely not the case, but this serves as a good place to start for the sessions to book for these two treats (160 subjects == 10 sessions) and throw in a few sessions for the Single Group PGG."
   ]
  },
  {
   "cell_type": "markdown",
   "metadata": {},
   "source": [
    "## Imports"
   ]
  },
  {
   "cell_type": "code",
   "execution_count": 1,
   "metadata": {},
   "outputs": [],
   "source": [
    "from cleaning_utils import treatment_reading_and_cleaning, for_pilot, shared_endowment\n",
    "from metrics_utils import average_investment, gen_investment_avgs_first_five_periods, gen_standard_deviation\n",
    "from constants import FFG_avg_invest_1_to_5, FFG_avg_invest_1_to_5_as_perc, alpha, power\n",
    "from power_analysis_utils import gen_effect_size, conduct_power_analysis, clean_print"
   ]
  },
  {
   "cell_type": "markdown",
   "metadata": {},
   "source": [
    "## Conduct the Power Analysis"
   ]
  },
  {
   "cell_type": "code",
   "execution_count": 7,
   "metadata": {},
   "outputs": [
    {
     "name": "stdout",
     "output_type": "stream",
     "text": [
      "Required sample size:  77.0\n"
     ]
    }
   ],
   "source": [
    "## Read and clean the data\n",
    "treatment_df = treatment_reading_and_cleaning('/Users/aaronberman/Desktop/DA_4_MGPGG/SharedEndowment_2023-07-05.csv')\n",
    "treatment_df = for_pilot(treatment_df)\n",
    "treatment_df = shared_endowment(treatment_df)\n",
    "# treatment_df # run this separately if you want to see what the data looks like\n",
    "\n",
    "\n",
    "## Construct the averages | First for all periods and then narrow in on the first 5\n",
    "average_investments = average_investment(treatment_df)\n",
    "# average_investments # Run this sep ...\n",
    "\n",
    "avg_1_to_5_investment, avg_1_to_5_investment_as_perc  = gen_investment_avgs_first_five_periods(treatment_df, 1)\n",
    "# print(avg_1_to_5_investment) # Run this sep ...\n",
    "# avg_1_to_5_investment_as_perc\n",
    "\n",
    "invest_standard_dev, invest_standard_dev_perc = gen_standard_deviation(average_investments)\n",
    "# print(invest_standard_dev) # Run this sep ...\n",
    "# invest_standard_dev_perc\n",
    "\n",
    "\n",
    "# Renaming our relevant variables\n",
    "Pilot_avg_invest_1_to_5 = avg_1_to_5_investment\n",
    "Pilot_avg_invest_1_to_5_as_perc = avg_1_to_5_investment_as_perc\n",
    "\n",
    "# Standard Deviations\n",
    "Pilot_standard_dev = invest_standard_dev\n",
    "Pilot_standard_dev_as_perc = invest_standard_dev_perc\n",
    "\n",
    "effect_size = gen_effect_size(Pilot_avg_invest_1_to_5_as_perc, FFG_avg_invest_1_to_5_as_perc, Pilot_standard_dev_as_perc  )\n",
    "\n",
    "sample_size = conduct_power_analysis(effect_size, alpha, power)\n",
    "\n",
    "clean_print(sample_size)"
   ]
  }
 ],
 "metadata": {
  "kernelspec": {
   "display_name": "base",
   "language": "python",
   "name": "python3"
  },
  "language_info": {
   "codemirror_mode": {
    "name": "ipython",
    "version": 3
   },
   "file_extension": ".py",
   "mimetype": "text/x-python",
   "name": "python",
   "nbconvert_exporter": "python",
   "pygments_lexer": "ipython3",
   "version": "3.9.12"
  },
  "orig_nbformat": 4
 },
 "nbformat": 4,
 "nbformat_minor": 2
}
