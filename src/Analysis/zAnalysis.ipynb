{
 "cells": [
  {
   "cell_type": "markdown",
   "metadata": {},
   "source": [
    "# MGPGG Analysis Functionality"
   ]
  },
  {
   "cell_type": "markdown",
   "metadata": {},
   "source": [
    "## Imports"
   ]
  },
  {
   "cell_type": "code",
   "execution_count": 1,
   "metadata": {},
   "outputs": [],
   "source": [
    "import pandas as pd\n",
    "from analysis_utils import (gen_avg_invest_per_group_per_treatment_list, \n",
    "                            gen_first_period_list,\n",
    "                            gen_investment_avg_invest_per_period,\n",
    "                            gen_avg_invest_plots,\n",
    "                            gen_invest_subsets,\n",
    "                            gen_avg_investment_per_participant_all_treatments,\n",
    "                            gen_gender_split)\n",
    "from stat_tests_utils import (gen_t_stat,\n",
    "                              gen_tukey_test,\n",
    "                              gen_kruskal_wallis_and_conover_iman)"
   ]
  },
  {
   "cell_type": "markdown",
   "metadata": {},
   "source": [
    "## Code Test"
   ]
  },
  {
   "cell_type": "markdown",
   "metadata": {},
   "source": [
    "### Read Data"
   ]
  },
  {
   "cell_type": "code",
   "execution_count": 2,
   "metadata": {},
   "outputs": [],
   "source": [
    "mgpggdf = pd.read_csv('/Users/aaronberman/Desktop/DA_4_MGPGG/src/zBigData/mgpgg_df_9_16_23.csv')"
   ]
  },
  {
   "cell_type": "markdown",
   "metadata": {},
   "source": [
    "### Avg Invest per treatment "
   ]
  },
  {
   "cell_type": "code",
   "execution_count": 3,
   "metadata": {},
   "outputs": [
    {
     "data": {
      "text/plain": [
       "[{'treatment': 'single',\n",
       "  'average_investment': 9.029166666666667,\n",
       "  'investment_std': 6.286949865921835},\n",
       " {'treatment': 'split',\n",
       "  'avg_blue_investment': 4.397916666666666,\n",
       "  'std_blue': 3.590335165984021,\n",
       "  'avg_green_investment': 4.319791666666666,\n",
       "  'std_green': 3.531893116558287,\n",
       "  'avg_both': 8.717708333333333,\n",
       "  'std_both': 3.560520413798343},\n",
       " {'treatment': 'shared',\n",
       "  'avg_blue_investment': 6.828125,\n",
       "  'std_blue': 5.726786264790733,\n",
       "  'avg_green_investment': 4.3109375,\n",
       "  'std_green': 4.199877774292867,\n",
       "  'avg_both': 11.1390625,\n",
       "  'std_both': 5.176132718252052}]"
      ]
     },
     "execution_count": 3,
     "metadata": {},
     "output_type": "execute_result"
    }
   ],
   "source": [
    "avg_list = gen_avg_invest_per_group_per_treatment_list(mgpggdf)\n",
    "avg_list"
   ]
  },
  {
   "cell_type": "markdown",
   "metadata": {},
   "source": [
    "### Avg invest 1st period"
   ]
  },
  {
   "cell_type": "code",
   "execution_count": 4,
   "metadata": {},
   "outputs": [
    {
     "data": {
      "text/plain": [
       "[{'treatment': 'single',\n",
       "  'average_investment': 10.291666666666666,\n",
       "  'investment_std': 4.959230951589738},\n",
       " {'treatment': 'split',\n",
       "  'avg_blue_investment': 6.520833333333333,\n",
       "  'std_blue': 2.805690140254366,\n",
       "  'avg_green_investment': 6.458333333333333,\n",
       "  'std_green': 2.820580393973065,\n",
       "  'avg_both': 12.979166666666666,\n",
       "  'std_both': 2.7984762457890566},\n",
       " {'treatment': 'shared',\n",
       "  'avg_blue_investment': 6.828125,\n",
       "  'std_blue': 3.548103394549361,\n",
       "  'avg_green_investment': 6.1875,\n",
       "  'std_green': 2.9486343354923545,\n",
       "  'avg_both': 13.015625,\n",
       "  'std_both': 3.2651731664777928}]"
      ]
     },
     "execution_count": 4,
     "metadata": {},
     "output_type": "execute_result"
    }
   ],
   "source": [
    "first_period_avg_invest = gen_first_period_list(mgpggdf)\n",
    "first_period_avg_invest"
   ]
  },
  {
   "cell_type": "markdown",
   "metadata": {},
   "source": [
    "# Avg invest per period"
   ]
  },
  {
   "cell_type": "code",
   "execution_count": 5,
   "metadata": {},
   "outputs": [
    {
     "data": {
      "text/plain": [
       "{'period_1': 10.291666666666666,\n",
       " 'period_2': 11.625,\n",
       " 'period_3': 11.895833333333334,\n",
       " 'period_4': 11.020833333333334,\n",
       " 'period_5': 10.395833333333334,\n",
       " 'period_6': 10.9375,\n",
       " 'period_7': 9.583333333333334,\n",
       " 'period_8': 8.9375,\n",
       " 'period_9': 9.083333333333334,\n",
       " 'period_10': 9.395833333333334,\n",
       " 'period_11': 8.770833333333334,\n",
       " 'period_12': 8.770833333333334,\n",
       " 'period_13': 8.104166666666666,\n",
       " 'period_14': 7.520833333333333,\n",
       " 'period_15': 8.020833333333334,\n",
       " 'period_16': 7.1875,\n",
       " 'period_17': 7.041666666666667,\n",
       " 'period_18': 7.979166666666667,\n",
       " 'period_19': 7.3125,\n",
       " 'period_20': 6.708333333333333}"
      ]
     },
     "execution_count": 5,
     "metadata": {},
     "output_type": "execute_result"
    }
   ],
   "source": [
    "singlePP = gen_investment_avg_invest_per_period(mgpggdf, 'single')\n",
    "singlePP"
   ]
  },
  {
   "cell_type": "code",
   "execution_count": 6,
   "metadata": {},
   "outputs": [
    {
     "data": {
      "text/plain": [
       "{'period_1': 10.840625,\n",
       " 'period_2': 10.632291666666667,\n",
       " 'period_3': 9.986458333333333,\n",
       " 'period_4': 9.653125,\n",
       " 'period_5': 9.840625,\n",
       " 'period_6': 9.236458333333333,\n",
       " 'period_7': 8.632291666666667,\n",
       " 'period_8': 8.611458333333333,\n",
       " 'period_9': 8.111458333333333,\n",
       " 'period_10': 8.653125,\n",
       " 'period_11': 9.028125,\n",
       " 'period_12': 7.882291666666666,\n",
       " 'period_13': 8.278125,\n",
       " 'period_14': 7.944791666666666,\n",
       " 'period_15': 8.111458333333333,\n",
       " 'period_16': 7.778124999999999,\n",
       " 'period_17': 8.048958333333333,\n",
       " 'period_18': 7.715624999999999,\n",
       " 'period_19': 7.590624999999999,\n",
       " 'period_20': 7.778124999999999}"
      ]
     },
     "execution_count": 6,
     "metadata": {},
     "output_type": "execute_result"
    }
   ],
   "source": [
    "splitBlue, splitGreen, splitPP = gen_investment_avg_invest_per_period(mgpggdf, 'split')\n",
    "splitPP"
   ]
  },
  {
   "cell_type": "code",
   "execution_count": 7,
   "metadata": {},
   "outputs": [
    {
     "data": {
      "text/plain": [
       "{'period_1': 11.1390625,\n",
       " 'period_2': 12.3734375,\n",
       " 'period_3': 12.3890625,\n",
       " 'period_4': 12.4671875,\n",
       " 'period_5': 12.8890625,\n",
       " 'period_6': 11.6390625,\n",
       " 'period_7': 11.9984375,\n",
       " 'period_8': 12.4515625,\n",
       " 'period_9': 11.9046875,\n",
       " 'period_10': 11.4046875,\n",
       " 'period_11': 10.6390625,\n",
       " 'period_12': 10.3265625,\n",
       " 'period_13': 10.3734375,\n",
       " 'period_14': 10.5453125,\n",
       " 'period_15': 10.2484375,\n",
       " 'period_16': 10.4515625,\n",
       " 'period_17': 10.3734375,\n",
       " 'period_18': 10.1859375,\n",
       " 'period_19': 9.7015625,\n",
       " 'period_20': 9.2796875}"
      ]
     },
     "execution_count": 7,
     "metadata": {},
     "output_type": "execute_result"
    }
   ],
   "source": [
    "sharedBlue, sharedGreen, sharedPP = gen_investment_avg_invest_per_period(mgpggdf, 'shared')\n",
    "sharedPP"
   ]
  },
  {
   "cell_type": "markdown",
   "metadata": {},
   "source": [
    "#### Plots "
   ]
  },
  {
   "cell_type": "code",
   "execution_count": 8,
   "metadata": {},
   "outputs": [
    {
     "data": {
      "image/png": "[encoded data removed]",
      "text/plain": [
       "<Figure size 432x288 with 1 Axes>"
      ]
     },
     "metadata": {
      "needs_background": "light"
     },
     "output_type": "display_data"
    }
   ],
   "source": [
    "gen_avg_invest_plots(mgpggdf, singlePP, splitPP, sharedPP)"
   ]
  },
  {
   "cell_type": "markdown",
   "metadata": {},
   "source": [
    "# Grouped Period Avgs"
   ]
  },
  {
   "cell_type": "code",
   "execution_count": 9,
   "metadata": {},
   "outputs": [
    {
     "data": {
      "text/plain": [
       "{'period_1': 10.291666666666666,\n",
       " 'period_2_to_10': 10.319444444444445,\n",
       " 'period_11_to_20': 7.741666666666667}"
      ]
     },
     "execution_count": 9,
     "metadata": {},
     "output_type": "execute_result"
    }
   ],
   "source": [
    "singleTrend = gen_invest_subsets(singlePP)\n",
    "singleTrend"
   ]
  },
  {
   "cell_type": "code",
   "execution_count": 10,
   "metadata": {},
   "outputs": [
    {
     "data": {
      "text/plain": [
       "{'period_1': 10.840625,\n",
       " 'period_2_to_10': 9.261921296296297,\n",
       " 'period_11_to_20': 8.015625}"
      ]
     },
     "execution_count": 10,
     "metadata": {},
     "output_type": "execute_result"
    }
   ],
   "source": [
    "splitTrend = gen_invest_subsets(splitPP)\n",
    "splitTrend"
   ]
  },
  {
   "cell_type": "code",
   "execution_count": 11,
   "metadata": {},
   "outputs": [
    {
     "data": {
      "text/plain": [
       "{'period_1': 11.1390625,\n",
       " 'period_2_to_10': 12.168576388888887,\n",
       " 'period_11_to_20': 10.212499999999999}"
      ]
     },
     "execution_count": 11,
     "metadata": {},
     "output_type": "execute_result"
    }
   ],
   "source": [
    "sharedTrend = gen_invest_subsets(sharedPP)\n",
    "sharedTrend"
   ]
  },
  {
   "cell_type": "markdown",
   "metadata": {},
   "source": [
    "# Avg Invest Per Participant"
   ]
  },
  {
   "cell_type": "code",
   "execution_count": 12,
   "metadata": {},
   "outputs": [],
   "source": [
    "single_per_participant, split_per_participant, shared_per_participant = gen_avg_investment_per_participant_all_treatments(mgpggdf)"
   ]
  },
  {
   "cell_type": "code",
   "execution_count": 13,
   "metadata": {},
   "outputs": [
    {
     "data": {
      "text/plain": [
       "participant.code\n",
       "02yoiini     1.50\n",
       "3glo2sut    14.35\n",
       "3t1yd76e     4.80\n",
       "3wsimfx1     4.55\n",
       "4m3mnns4     8.00\n",
       "4y24f83z     6.65\n",
       "52bv3haq     8.80\n",
       "5kmto865     6.75\n",
       "7guwgxdz     4.05\n",
       "86xzegwa    13.45\n",
       "8a32d85o     9.90\n",
       "byr62fae    19.40\n",
       "ce4a30zm    10.30\n",
       "df9enjc7     8.60\n",
       "e3fzrgaw    15.35\n",
       "ebrsciqf    11.90\n",
       "ejyuem76     8.90\n",
       "fys37pcj     4.30\n",
       "hkqn1ed7    11.70\n",
       "hx3o1s0h     6.85\n",
       "j1gono9u     6.95\n",
       "kbssc6j5    18.90\n",
       "l6obnjg3    10.80\n",
       "ljwiptav     0.75\n",
       "mcyb8nzj     8.40\n",
       "mes8jlj3    11.15\n",
       "mi71clqq    11.80\n",
       "n0xchygn    19.45\n",
       "nt59s8no    15.90\n",
       "ntxhu86g     6.65\n",
       "oib9o9ut     4.35\n",
       "pirz8n7g     6.95\n",
       "qhpseojl    10.90\n",
       "rgzi9vc3     4.70\n",
       "rxxv64eg     9.15\n",
       "s0rqj6zp    15.00\n",
       "sbgz5y8e     9.25\n",
       "sl25h2jp     6.95\n",
       "u96fqg82     6.85\n",
       "uyxyyjed    15.70\n",
       "v2sdt0ww     5.05\n",
       "v870gmh5     5.75\n",
       "wewkxaoo     3.30\n",
       "wr3b151e     7.85\n",
       "wydtrsec     7.10\n",
       "ybh2rm6k     9.15\n",
       "ybvwpn29     6.65\n",
       "zu546g9a     7.90\n",
       "Name: player.investment, dtype: float64"
      ]
     },
     "execution_count": 13,
     "metadata": {},
     "output_type": "execute_result"
    }
   ],
   "source": [
    "single_per_participant"
   ]
  },
  {
   "cell_type": "code",
   "execution_count": 14,
   "metadata": {},
   "outputs": [
    {
     "data": {
      "text/plain": [
       "participant.code\n",
       "2pdifgop     1.40\n",
       "3vg1nnb5    10.60\n",
       "578shq6u     8.40\n",
       "5zvkwvt1    11.25\n",
       "6rvhnkuw     6.85\n",
       "6zejrew8     3.45\n",
       "7dn0fcr7     7.75\n",
       "8o7ec28a    15.00\n",
       "a1cromm4     8.20\n",
       "afn1we6s     8.00\n",
       "c8z1hs3b     7.50\n",
       "cci77ecu    10.80\n",
       "dhepwdt4     6.70\n",
       "doeb7lfm     5.20\n",
       "e2uk9h5e     7.00\n",
       "etwj8qmg     3.60\n",
       "fg977ybm     9.60\n",
       "fi6yfeww     7.30\n",
       "ic57a2og     3.85\n",
       "iltdihj0    13.95\n",
       "j2b99lpm     8.20\n",
       "j6hhbqvh     9.30\n",
       "jnlw4pws     4.60\n",
       "kpw7f91m    12.25\n",
       "l06pj730     6.30\n",
       "l1y9oi0t    16.80\n",
       "l6yb2h7q     4.95\n",
       "lk8h5ysr    14.25\n",
       "lqocl211    15.70\n",
       "mbfvr9b5     4.40\n",
       "momnp9hh     6.50\n",
       "nypjtwsh    12.80\n",
       "opttsgu7     3.70\n",
       "pc54x20f    10.60\n",
       "q7ta01n1    11.20\n",
       "qckfb7z4     9.75\n",
       "rm22ceh3    12.60\n",
       "sht3hkv2    10.10\n",
       "sv7zhqra     6.05\n",
       "uq4kstee    12.70\n",
       "uuj8z0g8     9.60\n",
       "wvi0sb2a     9.00\n",
       "wzfdxsrs     9.60\n",
       "xivtyczh     9.15\n",
       "xvuuxsl4    16.90\n",
       "y9eborjq     0.00\n",
       "yx3p0b6v     7.35\n",
       "zx92uamy     7.70\n",
       "dtype: float64"
      ]
     },
     "execution_count": 14,
     "metadata": {},
     "output_type": "execute_result"
    }
   ],
   "source": [
    "split_per_participant"
   ]
  },
  {
   "cell_type": "code",
   "execution_count": 15,
   "metadata": {},
   "outputs": [
    {
     "data": {
      "text/plain": [
       "participant.code\n",
       "14prhddm    19.95\n",
       "1e0xptl3     8.45\n",
       "1ef36mxh     6.05\n",
       "29tlrw6l    15.40\n",
       "2wa1hn3y     7.50\n",
       "            ...  \n",
       "zjk0f1ye    12.00\n",
       "zkquw8f4    10.30\n",
       "zl7cdh1u    10.40\n",
       "znlu9jpg    12.40\n",
       "zq928mn2    13.35\n",
       "Length: 64, dtype: float64"
      ]
     },
     "execution_count": 15,
     "metadata": {},
     "output_type": "execute_result"
    }
   ],
   "source": [
    "shared_per_participant"
   ]
  },
  {
   "cell_type": "markdown",
   "metadata": {},
   "source": [
    "## Statistical Test"
   ]
  },
  {
   "cell_type": "markdown",
   "metadata": {},
   "source": [
    "### t-tests"
   ]
  },
  {
   "cell_type": "code",
   "execution_count": 16,
   "metadata": {},
   "outputs": [
    {
     "name": "stdout",
     "output_type": "stream",
     "text": [
      "t-statistic: 0.3665996741075867\n",
      "p-value: 0.7147577694683682\n",
      "Fail to reject the null hypothesis: No evidence that the means are different\n"
     ]
    }
   ],
   "source": [
    "singleSplitTTest = gen_t_stat(single_per_participant, split_per_participant)"
   ]
  },
  {
   "cell_type": "code",
   "execution_count": 17,
   "metadata": {},
   "outputs": [
    {
     "name": "stdout",
     "output_type": "stream",
     "text": [
      "t-statistic: -2.870852569923617\n",
      "p-value: 0.004911571991173596\n",
      "Reject the null hypothesis: The means are different\n"
     ]
    }
   ],
   "source": [
    "splitSharedTTest = gen_t_stat(split_per_participant, shared_per_participant)"
   ]
  },
  {
   "cell_type": "code",
   "execution_count": 18,
   "metadata": {},
   "outputs": [
    {
     "name": "stdout",
     "output_type": "stream",
     "text": [
      "t-statistic: -2.3404065409402284\n",
      "p-value: 0.021112538469602815\n",
      "Reject the null hypothesis: The means are different\n"
     ]
    }
   ],
   "source": [
    "singleSharedTTest = gen_t_stat(single_per_participant, shared_per_participant)"
   ]
  },
  {
   "cell_type": "markdown",
   "metadata": {},
   "source": [
    "### Tukey mult comparison"
   ]
  },
  {
   "cell_type": "code",
   "execution_count": 19,
   "metadata": {},
   "outputs": [
    {
     "name": "stdout",
     "output_type": "stream",
     "text": [
      "Multiple Comparison of Means - Tukey HSD, FWER=0.05 \n",
      "====================================================\n",
      "group1 group2 meandiff p-adj   lower   upper  reject\n",
      "----------------------------------------------------\n",
      "shared single  -2.1099 0.0426 -4.1641 -0.0557   True\n",
      "shared  split  -2.4214 0.0163 -4.4756 -0.3671   True\n",
      "single  split  -0.3115 0.9398 -2.5075  1.8846  False\n",
      "----------------------------------------------------\n"
     ]
    },
    {
     "data": {
      "image/png": "[encoded data removed]",
      "text/plain": [
       "<Figure size 720x432 with 1 Axes>"
      ]
     },
     "metadata": {
      "needs_background": "light"
     },
     "output_type": "display_data"
    }
   ],
   "source": [
    "gen_tukey_test(single_per_participant, split_per_participant, shared_per_participant)"
   ]
  },
  {
   "cell_type": "markdown",
   "metadata": {},
   "source": [
    "### Non-parametric multiple comparison"
   ]
  },
  {
   "cell_type": "code",
   "execution_count": 20,
   "metadata": {},
   "outputs": [
    {
     "name": "stdout",
     "output_type": "stream",
     "text": [
      "Kruskal-Wallis H-test statistic: 10.08232945751128\n",
      "P-value: 0.006466212546883058\n",
      "Conover-Iman posthoc test with Bonferroni adjustment:\n",
      "          shared  single     split\n",
      "shared  1.000000  0.0213  0.018178\n",
      "single  0.021300  1.0000  1.000000\n",
      "split   0.018178  1.0000  1.000000\n"
     ]
    }
   ],
   "source": [
    "gen_kruskal_wallis_and_conover_iman(single_per_participant, split_per_participant, shared_per_participant)"
   ]
  },
  {
   "cell_type": "markdown",
   "metadata": {},
   "source": [
    "### Gender Difference"
   ]
  },
  {
   "cell_type": "code",
   "execution_count": 21,
   "metadata": {},
   "outputs": [],
   "source": [
    "femaleDf, maleDf = gen_gender_split(mgpggdf)"
   ]
  },
  {
   "cell_type": "code",
   "execution_count": 24,
   "metadata": {},
   "outputs": [
    {
     "name": "stdout",
     "output_type": "stream",
     "text": [
      "t-statistic: -0.6016021587577329\n",
      "p-value: 0.5492910746386458\n",
      "Fail to reject the null hypothesis: No evidence that the means are different\n"
     ]
    }
   ],
   "source": [
    "genderTStat, genderPValue = gen_t_stat(femaleDf, maleDf)"
   ]
  }
 ],
 "metadata": {
  "kernelspec": {
   "display_name": "base",
   "language": "python",
   "name": "python3"
  },
  "language_info": {
   "codemirror_mode": {
    "name": "ipython",
    "version": 3
   },
   "file_extension": ".py",
   "mimetype": "text/x-python",
   "name": "python",
   "nbconvert_exporter": "python",
   "pygments_lexer": "ipython3",
   "version": "3.9.12"
  },
  "orig_nbformat": 4
 },
 "nbformat": 4,
 "nbformat_minor": 2
}
