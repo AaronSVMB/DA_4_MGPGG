{
 "cells": [
  {
   "cell_type": "markdown",
   "metadata": {},
   "source": [
    "# MGPGG Analysis Functionality"
   ]
  },
  {
   "cell_type": "markdown",
   "metadata": {},
   "source": [
    "## Imports"
   ]
  },
  {
   "cell_type": "code",
   "execution_count": 1,
   "metadata": {},
   "outputs": [],
   "source": [
    "import pandas as pd\n",
    "from analysis_utils import (gen_avg_invest_per_group_per_treatment_list, \n",
    "                            gen_first_period_list,\n",
    "                            gen_investment_avg_invest_per_period,\n",
    "                            gen_avg_invest_plots,\n",
    "                            gen_invest_subsets,\n",
    "                            gen_avg_investment_per_participant_all_treatments,\n",
    "                            gen_gender_split,\n",
    "                            gen_data_panel_ols)\n",
    "from stat_tests_utils import (gen_t_stat,\n",
    "                              gen_tukey_test,\n",
    "                              gen_kruskal_wallis_and_conover_iman)\n",
    "from regression_utils import (gen_panel_ols)"
   ]
  },
  {
   "cell_type": "markdown",
   "metadata": {},
   "source": [
    "## Code Test"
   ]
  },
  {
   "cell_type": "markdown",
   "metadata": {},
   "source": [
    "### Read Data"
   ]
  },
  {
   "cell_type": "code",
   "execution_count": 2,
   "metadata": {},
   "outputs": [
    {
     "name": "stderr",
     "output_type": "stream",
     "text": [
      "/var/folders/ry/bf84d3cd54jctn_cwy_5666m0000gn/T/ipykernel_23637/463833470.py:1: DtypeWarning: Columns (215,216) have mixed types. Specify dtype option on import or set low_memory=False.\n",
      "  mgpggdf = pd.read_csv('/Users/aaronberman/Desktop/DA_4_MGPGG/src/zBigData/mgpgg_df_all_sessions.csv')\n"
     ]
    }
   ],
   "source": [
    "mgpggdf = pd.read_csv('/Users/aaronberman/Desktop/DA_4_MGPGG/src/zBigData/mgpgg_df_all_sessions.csv')"
   ]
  },
  {
   "cell_type": "code",
   "execution_count": null,
   "metadata": {},
   "outputs": [],
   "source": [
    "mgpggdf"
   ]
  },
  {
   "cell_type": "markdown",
   "metadata": {},
   "source": [
    "### Avg Invest per treatment "
   ]
  },
  {
   "cell_type": "code",
   "execution_count": 4,
   "metadata": {},
   "outputs": [
    {
     "data": {
      "text/plain": [
       "[{'treatment': 'single',\n",
       "  'average_investment': 8.705625,\n",
       "  'investment_std': 6.261667002916205},\n",
       " {'treatment': 'split',\n",
       "  'avg_blue_investment': 4.45625,\n",
       "  'std_blue': 3.353932986666462,\n",
       "  'avg_green_investment': 4.41,\n",
       "  'std_green': 3.3166285616020956,\n",
       "  'avg_both': 8.86625,\n",
       "  'std_both': 3.3348917829707996},\n",
       " {'treatment': 'shared',\n",
       "  'avg_blue_investment': 6.78,\n",
       "  'std_blue': 5.680274284527741,\n",
       "  'avg_green_investment': 4.5875,\n",
       "  'std_green': 4.263209248404869,\n",
       "  'avg_both': 11.3675,\n",
       "  'std_both': 5.139502939562342}]"
      ]
     },
     "execution_count": 4,
     "metadata": {},
     "output_type": "execute_result"
    }
   ],
   "source": [
    "avg_list = gen_avg_invest_per_group_per_treatment_list(mgpggdf)\n",
    "avg_list"
   ]
  },
  {
   "cell_type": "markdown",
   "metadata": {},
   "source": [
    "### Avg invest 1st period"
   ]
  },
  {
   "cell_type": "code",
   "execution_count": 5,
   "metadata": {},
   "outputs": [
    {
     "data": {
      "text/plain": [
       "[{'treatment': 'single',\n",
       "  'average_investment': 10.2375,\n",
       "  'investment_std': 5.263304420012347},\n",
       " {'treatment': 'split',\n",
       "  'avg_blue_investment': 6.3375,\n",
       "  'std_blue': 2.6764029800073836,\n",
       "  'avg_green_investment': 6.2625,\n",
       "  'std_green': 2.6564645296838343,\n",
       "  'avg_both': 12.600000000000001,\n",
       "  'std_both': 2.658320271650254},\n",
       " {'treatment': 'shared',\n",
       "  'avg_blue_investment': 6.875,\n",
       "  'std_blue': 3.300843773984641,\n",
       "  'avg_green_investment': 6.3625,\n",
       "  'std_green': 2.8562334673925305,\n",
       "  'avg_both': 13.2375,\n",
       "  'std_both': 3.08755235741006}]"
      ]
     },
     "execution_count": 5,
     "metadata": {},
     "output_type": "execute_result"
    }
   ],
   "source": [
    "first_period_avg_invest = gen_first_period_list(mgpggdf)\n",
    "first_period_avg_invest"
   ]
  },
  {
   "cell_type": "markdown",
   "metadata": {},
   "source": [
    "# Avg invest per period"
   ]
  },
  {
   "cell_type": "code",
   "execution_count": 6,
   "metadata": {},
   "outputs": [
    {
     "data": {
      "text/plain": [
       "{'period_1': 10.2375,\n",
       " 'period_2': 11.625,\n",
       " 'period_3': 11.8625,\n",
       " 'period_4': 10.6875,\n",
       " 'period_5': 9.875,\n",
       " 'period_6': 10.35,\n",
       " 'period_7': 8.7,\n",
       " 'period_8': 8.8625,\n",
       " 'period_9': 8.8375,\n",
       " 'period_10': 8.0625,\n",
       " 'period_11': 8.9,\n",
       " 'period_12': 8.9375,\n",
       " 'period_13': 7.9375,\n",
       " 'period_14': 7.5375,\n",
       " 'period_15': 7.8375,\n",
       " 'period_16': 7.175,\n",
       " 'period_17': 7.075,\n",
       " 'period_18': 7.1125,\n",
       " 'period_19': 6.45,\n",
       " 'period_20': 6.05}"
      ]
     },
     "execution_count": 6,
     "metadata": {},
     "output_type": "execute_result"
    }
   ],
   "source": [
    "singlePP = gen_investment_avg_invest_per_period(mgpggdf, 'single')\n",
    "singlePP"
   ]
  },
  {
   "cell_type": "code",
   "execution_count": 7,
   "metadata": {},
   "outputs": [
    {
     "data": {
      "text/plain": [
       "{'period_1': 12.600000000000001,\n",
       " 'period_2': 12.9,\n",
       " 'period_3': 12.225000000000001,\n",
       " 'period_4': 10.875,\n",
       " 'period_5': 10.6125,\n",
       " 'period_6': 10.2875,\n",
       " 'period_7': 9.5625,\n",
       " 'period_8': 9.4625,\n",
       " 'period_9': 7.625,\n",
       " 'period_10': 9.025,\n",
       " 'period_11': 9.1125,\n",
       " 'period_12': 7.5625,\n",
       " 'period_13': 7.1875,\n",
       " 'period_14': 6.925,\n",
       " 'period_15': 6.7125,\n",
       " 'period_16': 7.237500000000001,\n",
       " 'period_17': 7.225,\n",
       " 'period_18': 6.4125,\n",
       " 'period_19': 7.2125,\n",
       " 'period_20': 6.5625}"
      ]
     },
     "execution_count": 7,
     "metadata": {},
     "output_type": "execute_result"
    }
   ],
   "source": [
    "splitBlue, splitGreen, splitPP = gen_investment_avg_invest_per_period(mgpggdf, 'split')\n",
    "splitPP"
   ]
  },
  {
   "cell_type": "code",
   "execution_count": 8,
   "metadata": {},
   "outputs": [
    {
     "data": {
      "text/plain": [
       "{'period_1': 13.2375,\n",
       " 'period_2': 14.625,\n",
       " 'period_3': 14.2,\n",
       " 'period_4': 13.8875,\n",
       " 'period_5': 13.2875,\n",
       " 'period_6': 12.212499999999999,\n",
       " 'period_7': 12.825,\n",
       " 'period_8': 12.625,\n",
       " 'period_9': 12.0,\n",
       " 'period_10': 10.925,\n",
       " 'period_11': 10.325,\n",
       " 'period_12': 10.5,\n",
       " 'period_13': 10.0875,\n",
       " 'period_14': 10.625,\n",
       " 'period_15': 10.3375,\n",
       " 'period_16': 10.100000000000001,\n",
       " 'period_17': 9.5625,\n",
       " 'period_18': 9.2375,\n",
       " 'period_19': 8.95,\n",
       " 'period_20': 7.8}"
      ]
     },
     "execution_count": 8,
     "metadata": {},
     "output_type": "execute_result"
    }
   ],
   "source": [
    "sharedBlue, sharedGreen, sharedPP = gen_investment_avg_invest_per_period(mgpggdf, 'shared')\n",
    "sharedPP"
   ]
  },
  {
   "cell_type": "markdown",
   "metadata": {},
   "source": [
    "#### Plots "
   ]
  },
  {
   "cell_type": "code",
   "execution_count": 9,
   "metadata": {},
   "outputs": [
    {
     "data": {
      "image/png": "[encoded data removed]",
      "text/plain": [
       "<Figure size 432x288 with 1 Axes>"
      ]
     },
     "metadata": {
      "needs_background": "light"
     },
     "output_type": "display_data"
    }
   ],
   "source": [
    "gen_avg_invest_plots(mgpggdf, singlePP, splitPP, sharedPP)"
   ]
  },
  {
   "cell_type": "markdown",
   "metadata": {},
   "source": [
    "# Grouped Period Avgs"
   ]
  },
  {
   "cell_type": "code",
   "execution_count": 10,
   "metadata": {},
   "outputs": [
    {
     "data": {
      "text/plain": [
       "{'period_1': 10.2375,\n",
       " 'period_2_to_10': 9.87361111111111,\n",
       " 'period_11_to_20': 7.501249999999999}"
      ]
     },
     "execution_count": 10,
     "metadata": {},
     "output_type": "execute_result"
    }
   ],
   "source": [
    "singleTrend = gen_invest_subsets(singlePP)\n",
    "singleTrend"
   ]
  },
  {
   "cell_type": "code",
   "execution_count": 11,
   "metadata": {},
   "outputs": [
    {
     "data": {
      "text/plain": [
       "{'period_1': 12.600000000000001,\n",
       " 'period_2_to_10': 10.286111111111113,\n",
       " 'period_11_to_20': 7.215000000000001}"
      ]
     },
     "execution_count": 11,
     "metadata": {},
     "output_type": "execute_result"
    }
   ],
   "source": [
    "splitTrend = gen_invest_subsets(splitPP)\n",
    "splitTrend"
   ]
  },
  {
   "cell_type": "code",
   "execution_count": 12,
   "metadata": {},
   "outputs": [
    {
     "data": {
      "text/plain": [
       "{'period_1': 13.2375,\n",
       " 'period_2_to_10': 12.954166666666667,\n",
       " 'period_11_to_20': 9.7525}"
      ]
     },
     "execution_count": 12,
     "metadata": {},
     "output_type": "execute_result"
    }
   ],
   "source": [
    "sharedTrend = gen_invest_subsets(sharedPP)\n",
    "sharedTrend"
   ]
  },
  {
   "cell_type": "markdown",
   "metadata": {},
   "source": [
    "# Avg Invest Per Participant"
   ]
  },
  {
   "cell_type": "code",
   "execution_count": 13,
   "metadata": {},
   "outputs": [],
   "source": [
    "single_per_participant, split_per_participant, shared_per_participant = gen_avg_investment_per_participant_all_treatments(mgpggdf)"
   ]
  },
  {
   "cell_type": "code",
   "execution_count": 14,
   "metadata": {},
   "outputs": [
    {
     "data": {
      "text/plain": [
       "participant.code\n",
       "02yoiini     1.50\n",
       "0j7kfhln    12.20\n",
       "3glo2sut    14.35\n",
       "3k4ystev    11.00\n",
       "3t1yd76e     4.80\n",
       "            ...  \n",
       "yk6lhwal     6.10\n",
       "zah11a93    13.65\n",
       "zlggycpg     7.00\n",
       "ztrzsad5     5.20\n",
       "zu546g9a     7.90\n",
       "Name: player.investment, Length: 80, dtype: float64"
      ]
     },
     "execution_count": 14,
     "metadata": {},
     "output_type": "execute_result"
    }
   ],
   "source": [
    "single_per_participant"
   ]
  },
  {
   "cell_type": "code",
   "execution_count": 15,
   "metadata": {},
   "outputs": [
    {
     "data": {
      "text/plain": [
       "participant.code\n",
       "0ann0bvh     8.20\n",
       "23a2mmhm    10.55\n",
       "2kukmydw     8.50\n",
       "2pdifgop     1.40\n",
       "3ujhueug     8.35\n",
       "            ...  \n",
       "y9eborjq     0.00\n",
       "yx3p0b6v     7.35\n",
       "zelu4yvk    12.20\n",
       "znwkezuw    10.40\n",
       "zx92uamy     7.70\n",
       "Length: 80, dtype: float64"
      ]
     },
     "execution_count": 15,
     "metadata": {},
     "output_type": "execute_result"
    }
   ],
   "source": [
    "split_per_participant"
   ]
  },
  {
   "cell_type": "code",
   "execution_count": 16,
   "metadata": {},
   "outputs": [
    {
     "data": {
      "text/plain": [
       "participant.code\n",
       "0wj4te8u    20.00\n",
       "14prhddm    19.95\n",
       "1e0xptl3     8.45\n",
       "1ef36mxh     6.05\n",
       "29tlrw6l    15.40\n",
       "            ...  \n",
       "zjk0f1ye    12.00\n",
       "zkquw8f4    10.30\n",
       "zl7cdh1u    10.40\n",
       "znlu9jpg    12.40\n",
       "zq928mn2    13.35\n",
       "Length: 80, dtype: float64"
      ]
     },
     "execution_count": 16,
     "metadata": {},
     "output_type": "execute_result"
    }
   ],
   "source": [
    "shared_per_participant"
   ]
  },
  {
   "cell_type": "markdown",
   "metadata": {},
   "source": [
    "## Statistical Test"
   ]
  },
  {
   "cell_type": "markdown",
   "metadata": {},
   "source": [
    "### t-tests"
   ]
  },
  {
   "cell_type": "code",
   "execution_count": 17,
   "metadata": {},
   "outputs": [
    {
     "name": "stdout",
     "output_type": "stream",
     "text": [
      "t-statistic: -0.26651769340755815\n",
      "p-value: 0.7902117308991055\n",
      "Fail to reject the null hypothesis: No evidence that the means are different\n"
     ]
    }
   ],
   "source": [
    "singleSplitTTest = gen_t_stat(single_per_participant, split_per_participant)"
   ]
  },
  {
   "cell_type": "code",
   "execution_count": 18,
   "metadata": {},
   "outputs": [
    {
     "name": "stdout",
     "output_type": "stream",
     "text": [
      "t-statistic: -3.718599195105081\n",
      "p-value: 0.0002922879250957225\n",
      "Reject the null hypothesis: The means are different\n"
     ]
    }
   ],
   "source": [
    "splitSharedTTest = gen_t_stat(split_per_participant, shared_per_participant)"
   ]
  },
  {
   "cell_type": "code",
   "execution_count": 19,
   "metadata": {},
   "outputs": [
    {
     "name": "stdout",
     "output_type": "stream",
     "text": [
      "t-statistic: -3.5980649841252768\n",
      "p-value: 0.00043157425359019404\n",
      "Reject the null hypothesis: The means are different\n"
     ]
    }
   ],
   "source": [
    "singleSharedTTest = gen_t_stat(single_per_participant, shared_per_participant)"
   ]
  },
  {
   "cell_type": "markdown",
   "metadata": {},
   "source": [
    "### Tukey mult comparison"
   ]
  },
  {
   "cell_type": "code",
   "execution_count": 20,
   "metadata": {},
   "outputs": [
    {
     "name": "stdout",
     "output_type": "stream",
     "text": [
      "Multiple Comparison of Means - Tukey HSD, FWER=0.05 \n",
      "====================================================\n",
      "group1 group2 meandiff p-adj   lower   upper  reject\n",
      "----------------------------------------------------\n",
      "shared single  -2.6619 0.0003 -4.2516 -1.0721   True\n",
      "shared  split  -2.5012 0.0008  -4.091 -0.9115   True\n",
      "single  split   0.1606 0.9692 -1.4291  1.7504  False\n",
      "----------------------------------------------------\n"
     ]
    },
    {
     "data": {
      "image/png": "[encoded data removed]",
      "text/plain": [
       "<Figure size 720x432 with 1 Axes>"
      ]
     },
     "metadata": {
      "needs_background": "light"
     },
     "output_type": "display_data"
    }
   ],
   "source": [
    "gen_tukey_test(single_per_participant, split_per_participant, shared_per_participant)"
   ]
  },
  {
   "cell_type": "markdown",
   "metadata": {},
   "source": [
    "### Non-parametric multiple comparison"
   ]
  },
  {
   "cell_type": "code",
   "execution_count": 21,
   "metadata": {},
   "outputs": [
    {
     "name": "stdout",
     "output_type": "stream",
     "text": [
      "Kruskal-Wallis H-test statistic: 17.739860195976302\n",
      "P-value: 0.00014055241222744451\n",
      "Conover-Iman posthoc test with Bonferroni adjustment:\n",
      "          shared  single     split\n",
      "shared  1.000000  0.0002  0.002346\n",
      "single  0.000200  1.0000  1.000000\n",
      "split   0.002346  1.0000  1.000000\n"
     ]
    }
   ],
   "source": [
    "gen_kruskal_wallis_and_conover_iman(single_per_participant, split_per_participant, shared_per_participant)"
   ]
  },
  {
   "cell_type": "markdown",
   "metadata": {},
   "source": [
    "### Gender Difference"
   ]
  },
  {
   "cell_type": "code",
   "execution_count": 22,
   "metadata": {},
   "outputs": [],
   "source": [
    "femaleDf, maleDf = gen_gender_split(mgpggdf)"
   ]
  },
  {
   "cell_type": "code",
   "execution_count": 23,
   "metadata": {},
   "outputs": [
    {
     "name": "stdout",
     "output_type": "stream",
     "text": [
      "t-statistic: -0.7096966706334112\n",
      "p-value: 0.47906360731436126\n",
      "Fail to reject the null hypothesis: No evidence that the means are different\n"
     ]
    }
   ],
   "source": [
    "genderTStat, genderPValue = gen_t_stat(femaleDf, maleDf)"
   ]
  },
  {
   "cell_type": "markdown",
   "metadata": {},
   "source": [
    "## Regressions"
   ]
  },
  {
   "cell_type": "markdown",
   "metadata": {},
   "source": [
    "### panel ols"
   ]
  },
  {
   "cell_type": "code",
   "execution_count": 24,
   "metadata": {},
   "outputs": [],
   "source": [
    "indices = ['participant.code', 'subsession.round_number']\n",
    "depVarSingle = 'player.investment'\n",
    "indepVar = ['RoumdIndep']"
   ]
  },
  {
   "cell_type": "code",
   "execution_count": 25,
   "metadata": {},
   "outputs": [
    {
     "data": {
      "text/html": [
       "<div>\n",
       "<style scoped>\n",
       "    .dataframe tbody tr th:only-of-type {\n",
       "        vertical-align: middle;\n",
       "    }\n",
       "\n",
       "    .dataframe tbody tr th {\n",
       "        vertical-align: top;\n",
       "    }\n",
       "\n",
       "    .dataframe thead th {\n",
       "        text-align: right;\n",
       "    }\n",
       "</style>\n",
       "<table border=\"1\" class=\"dataframe\">\n",
       "  <thead>\n",
       "    <tr style=\"text-align: right;\">\n",
       "      <th></th>\n",
       "      <th>pgg_treatment_applied</th>\n",
       "      <th>participant.code</th>\n",
       "      <th>player.investment</th>\n",
       "      <th>subsession.round_number</th>\n",
       "      <th>RoumdIndep</th>\n",
       "    </tr>\n",
       "  </thead>\n",
       "  <tbody>\n",
       "    <tr>\n",
       "      <th>0</th>\n",
       "      <td>single</td>\n",
       "      <td>byr62fae</td>\n",
       "      <td>12.0</td>\n",
       "      <td>1</td>\n",
       "      <td>1</td>\n",
       "    </tr>\n",
       "    <tr>\n",
       "      <th>1</th>\n",
       "      <td>single</td>\n",
       "      <td>byr62fae</td>\n",
       "      <td>16.0</td>\n",
       "      <td>2</td>\n",
       "      <td>2</td>\n",
       "    </tr>\n",
       "    <tr>\n",
       "      <th>2</th>\n",
       "      <td>single</td>\n",
       "      <td>byr62fae</td>\n",
       "      <td>20.0</td>\n",
       "      <td>3</td>\n",
       "      <td>3</td>\n",
       "    </tr>\n",
       "    <tr>\n",
       "      <th>3</th>\n",
       "      <td>single</td>\n",
       "      <td>byr62fae</td>\n",
       "      <td>20.0</td>\n",
       "      <td>4</td>\n",
       "      <td>4</td>\n",
       "    </tr>\n",
       "    <tr>\n",
       "      <th>4</th>\n",
       "      <td>single</td>\n",
       "      <td>byr62fae</td>\n",
       "      <td>20.0</td>\n",
       "      <td>5</td>\n",
       "      <td>5</td>\n",
       "    </tr>\n",
       "    <tr>\n",
       "      <th>...</th>\n",
       "      <td>...</td>\n",
       "      <td>...</td>\n",
       "      <td>...</td>\n",
       "      <td>...</td>\n",
       "      <td>...</td>\n",
       "    </tr>\n",
       "    <tr>\n",
       "      <th>1595</th>\n",
       "      <td>single</td>\n",
       "      <td>3k4ystev</td>\n",
       "      <td>10.0</td>\n",
       "      <td>16</td>\n",
       "      <td>16</td>\n",
       "    </tr>\n",
       "    <tr>\n",
       "      <th>1596</th>\n",
       "      <td>single</td>\n",
       "      <td>3k4ystev</td>\n",
       "      <td>10.0</td>\n",
       "      <td>17</td>\n",
       "      <td>17</td>\n",
       "    </tr>\n",
       "    <tr>\n",
       "      <th>1597</th>\n",
       "      <td>single</td>\n",
       "      <td>3k4ystev</td>\n",
       "      <td>0.0</td>\n",
       "      <td>18</td>\n",
       "      <td>18</td>\n",
       "    </tr>\n",
       "    <tr>\n",
       "      <th>1598</th>\n",
       "      <td>single</td>\n",
       "      <td>3k4ystev</td>\n",
       "      <td>0.0</td>\n",
       "      <td>19</td>\n",
       "      <td>19</td>\n",
       "    </tr>\n",
       "    <tr>\n",
       "      <th>1599</th>\n",
       "      <td>single</td>\n",
       "      <td>3k4ystev</td>\n",
       "      <td>10.0</td>\n",
       "      <td>20</td>\n",
       "      <td>20</td>\n",
       "    </tr>\n",
       "  </tbody>\n",
       "</table>\n",
       "<p>1600 rows × 5 columns</p>\n",
       "</div>"
      ],
      "text/plain": [
       "     pgg_treatment_applied participant.code  player.investment  \\\n",
       "0                   single         byr62fae               12.0   \n",
       "1                   single         byr62fae               16.0   \n",
       "2                   single         byr62fae               20.0   \n",
       "3                   single         byr62fae               20.0   \n",
       "4                   single         byr62fae               20.0   \n",
       "...                    ...              ...                ...   \n",
       "1595                single         3k4ystev               10.0   \n",
       "1596                single         3k4ystev               10.0   \n",
       "1597                single         3k4ystev                0.0   \n",
       "1598                single         3k4ystev                0.0   \n",
       "1599                single         3k4ystev               10.0   \n",
       "\n",
       "      subsession.round_number  RoumdIndep  \n",
       "0                           1           1  \n",
       "1                           2           2  \n",
       "2                           3           3  \n",
       "3                           4           4  \n",
       "4                           5           5  \n",
       "...                       ...         ...  \n",
       "1595                       16          16  \n",
       "1596                       17          17  \n",
       "1597                       18          18  \n",
       "1598                       19          19  \n",
       "1599                       20          20  \n",
       "\n",
       "[1600 rows x 5 columns]"
      ]
     },
     "execution_count": 25,
     "metadata": {},
     "output_type": "execute_result"
    }
   ],
   "source": [
    "singleData = mgpggdf.loc[:, ['pgg_treatment_applied','participant.code', 'player.investment', 'subsession.round_number'] ]\n",
    "singleData = singleData.loc[singleData['pgg_treatment_applied'] == 'single']\n",
    "singleData['RoumdIndep'] = singleData['subsession.round_number']\n",
    "singleData"
   ]
  },
  {
   "cell_type": "code",
   "execution_count": 26,
   "metadata": {},
   "outputs": [
    {
     "name": "stdout",
     "output_type": "stream",
     "text": [
      "                          PanelOLS Estimation Summary                           \n",
      "================================================================================\n",
      "Dep. Variable:      player.investment   R-squared:                        0.1090\n",
      "Estimator:                   PanelOLS   R-squared (Between):           -2.22e-16\n",
      "No. Observations:                1600   R-squared (Within):               0.1090\n",
      "Date:                Thu, Sep 28 2023   R-squared (Overall):              0.0587\n",
      "Time:                        15:45:34   Log-likelihood                   -4617.0\n",
      "Cov. Estimator:            Unadjusted                                           \n",
      "                                        F-statistic:                      185.81\n",
      "Entities:                          80   P-value                           0.0000\n",
      "Avg Obs:                       20.000   Distribution:                  F(1,1519)\n",
      "Min Obs:                       20.000                                           \n",
      "Max Obs:                       20.000   F-statistic (robust):             185.81\n",
      "                                        P-value                           0.0000\n",
      "Time periods:                      20   Distribution:                  F(1,1519)\n",
      "Avg Obs:                       80.000                                           \n",
      "Min Obs:                       80.000                                           \n",
      "Max Obs:                       80.000                                           \n",
      "                                                                                \n",
      "                             Parameter Estimates                              \n",
      "==============================================================================\n",
      "            Parameter  Std. Err.     T-stat    P-value    Lower CI    Upper CI\n",
      "------------------------------------------------------------------------------\n",
      "const          11.466     0.2311     49.626     0.0000      11.013      11.920\n",
      "RoumdIndep    -0.2629     0.0193    -13.631     0.0000     -0.3008     -0.2251\n",
      "==============================================================================\n",
      "\n",
      "F-test for Poolability: 18.516\n",
      "P-value: 0.0000\n",
      "Distribution: F(79,1519)\n",
      "\n",
      "Included effects: Entity\n"
     ]
    }
   ],
   "source": [
    "singleRegression = gen_panel_ols(singleData,indices, depVarSingle, indepVar)"
   ]
  },
  {
   "cell_type": "code",
   "execution_count": 27,
   "metadata": {},
   "outputs": [],
   "source": [
    "indices = ['participant.code', 'subsession.round_number']\n",
    "depVarSingle = 'player.personal_account'\n",
    "indepVar = ['RoumdIndep']"
   ]
  },
  {
   "cell_type": "code",
   "execution_count": 28,
   "metadata": {},
   "outputs": [
    {
     "data": {
      "text/html": [
       "<div>\n",
       "<style scoped>\n",
       "    .dataframe tbody tr th:only-of-type {\n",
       "        vertical-align: middle;\n",
       "    }\n",
       "\n",
       "    .dataframe tbody tr th {\n",
       "        vertical-align: top;\n",
       "    }\n",
       "\n",
       "    .dataframe thead th {\n",
       "        text-align: right;\n",
       "    }\n",
       "</style>\n",
       "<table border=\"1\" class=\"dataframe\">\n",
       "  <thead>\n",
       "    <tr style=\"text-align: right;\">\n",
       "      <th></th>\n",
       "      <th>pgg_treatment_applied</th>\n",
       "      <th>participant.code</th>\n",
       "      <th>player.personal_account</th>\n",
       "      <th>subsession.round_number</th>\n",
       "      <th>RoumdIndep</th>\n",
       "    </tr>\n",
       "  </thead>\n",
       "  <tbody>\n",
       "    <tr>\n",
       "      <th>3200</th>\n",
       "      <td>shared</td>\n",
       "      <td>znlu9jpg</td>\n",
       "      <td>6.0</td>\n",
       "      <td>1</td>\n",
       "      <td>1</td>\n",
       "    </tr>\n",
       "    <tr>\n",
       "      <th>3201</th>\n",
       "      <td>shared</td>\n",
       "      <td>znlu9jpg</td>\n",
       "      <td>2.0</td>\n",
       "      <td>2</td>\n",
       "      <td>2</td>\n",
       "    </tr>\n",
       "    <tr>\n",
       "      <th>3202</th>\n",
       "      <td>shared</td>\n",
       "      <td>znlu9jpg</td>\n",
       "      <td>5.0</td>\n",
       "      <td>3</td>\n",
       "      <td>3</td>\n",
       "    </tr>\n",
       "    <tr>\n",
       "      <th>3203</th>\n",
       "      <td>shared</td>\n",
       "      <td>znlu9jpg</td>\n",
       "      <td>8.0</td>\n",
       "      <td>4</td>\n",
       "      <td>4</td>\n",
       "    </tr>\n",
       "    <tr>\n",
       "      <th>3204</th>\n",
       "      <td>shared</td>\n",
       "      <td>znlu9jpg</td>\n",
       "      <td>12.0</td>\n",
       "      <td>5</td>\n",
       "      <td>5</td>\n",
       "    </tr>\n",
       "    <tr>\n",
       "      <th>...</th>\n",
       "      <td>...</td>\n",
       "      <td>...</td>\n",
       "      <td>...</td>\n",
       "      <td>...</td>\n",
       "      <td>...</td>\n",
       "    </tr>\n",
       "    <tr>\n",
       "      <th>4795</th>\n",
       "      <td>shared</td>\n",
       "      <td>w9zef9ad</td>\n",
       "      <td>5.0</td>\n",
       "      <td>16</td>\n",
       "      <td>16</td>\n",
       "    </tr>\n",
       "    <tr>\n",
       "      <th>4796</th>\n",
       "      <td>shared</td>\n",
       "      <td>w9zef9ad</td>\n",
       "      <td>4.0</td>\n",
       "      <td>17</td>\n",
       "      <td>17</td>\n",
       "    </tr>\n",
       "    <tr>\n",
       "      <th>4797</th>\n",
       "      <td>shared</td>\n",
       "      <td>w9zef9ad</td>\n",
       "      <td>6.0</td>\n",
       "      <td>18</td>\n",
       "      <td>18</td>\n",
       "    </tr>\n",
       "    <tr>\n",
       "      <th>4798</th>\n",
       "      <td>shared</td>\n",
       "      <td>w9zef9ad</td>\n",
       "      <td>4.0</td>\n",
       "      <td>19</td>\n",
       "      <td>19</td>\n",
       "    </tr>\n",
       "    <tr>\n",
       "      <th>4799</th>\n",
       "      <td>shared</td>\n",
       "      <td>w9zef9ad</td>\n",
       "      <td>0.0</td>\n",
       "      <td>20</td>\n",
       "      <td>20</td>\n",
       "    </tr>\n",
       "  </tbody>\n",
       "</table>\n",
       "<p>1600 rows × 5 columns</p>\n",
       "</div>"
      ],
      "text/plain": [
       "     pgg_treatment_applied participant.code  player.personal_account  \\\n",
       "3200                shared         znlu9jpg                      6.0   \n",
       "3201                shared         znlu9jpg                      2.0   \n",
       "3202                shared         znlu9jpg                      5.0   \n",
       "3203                shared         znlu9jpg                      8.0   \n",
       "3204                shared         znlu9jpg                     12.0   \n",
       "...                    ...              ...                      ...   \n",
       "4795                shared         w9zef9ad                      5.0   \n",
       "4796                shared         w9zef9ad                      4.0   \n",
       "4797                shared         w9zef9ad                      6.0   \n",
       "4798                shared         w9zef9ad                      4.0   \n",
       "4799                shared         w9zef9ad                      0.0   \n",
       "\n",
       "      subsession.round_number  RoumdIndep  \n",
       "3200                        1           1  \n",
       "3201                        2           2  \n",
       "3202                        3           3  \n",
       "3203                        4           4  \n",
       "3204                        5           5  \n",
       "...                       ...         ...  \n",
       "4795                       16          16  \n",
       "4796                       17          17  \n",
       "4797                       18          18  \n",
       "4798                       19          19  \n",
       "4799                       20          20  \n",
       "\n",
       "[1600 rows x 5 columns]"
      ]
     },
     "execution_count": 28,
     "metadata": {},
     "output_type": "execute_result"
    }
   ],
   "source": [
    "sharedData = mgpggdf.loc[:, ['pgg_treatment_applied','participant.code', 'player.personal_account', 'subsession.round_number'] ]\n",
    "sharedData = sharedData.loc[sharedData['pgg_treatment_applied'] == 'shared']\n",
    "sharedData['RoumdIndep'] = sharedData['subsession.round_number']\n",
    "sharedData"
   ]
  },
  {
   "cell_type": "code",
   "execution_count": 29,
   "metadata": {},
   "outputs": [
    {
     "name": "stdout",
     "output_type": "stream",
     "text": [
      "                             PanelOLS Estimation Summary                             \n",
      "=====================================================================================\n",
      "Dep. Variable:     player.personal_account   R-squared:                        0.1538\n",
      "Estimator:                        PanelOLS   R-squared (Between):            1.11e-16\n",
      "No. Observations:                     1600   R-squared (Within):               0.1538\n",
      "Date:                     Thu, Sep 28 2023   R-squared (Overall):              0.0702\n",
      "Time:                             15:45:43   Log-likelihood                   -4576.6\n",
      "Cov. Estimator:                 Unadjusted                                           \n",
      "                                             F-statistic:                      276.03\n",
      "Entities:                               80   P-value                           0.0000\n",
      "Avg Obs:                            20.000   Distribution:                  F(1,1519)\n",
      "Min Obs:                            20.000                                           \n",
      "Max Obs:                            20.000   F-statistic (robust):             276.03\n",
      "                                             P-value                           0.0000\n",
      "Time periods:                           20   Distribution:                  F(1,1519)\n",
      "Avg Obs:                            80.000                                           \n",
      "Min Obs:                            80.000                                           \n",
      "Max Obs:                            80.000                                           \n",
      "                                                                                     \n",
      "                             Parameter Estimates                              \n",
      "==============================================================================\n",
      "            Parameter  Std. Err.     T-stat    P-value    Lower CI    Upper CI\n",
      "------------------------------------------------------------------------------\n",
      "const          5.3516     0.2253     23.754     0.0000      4.9097      5.7936\n",
      "RoumdIndep     0.3125     0.0188     16.614     0.0000      0.2756      0.3494\n",
      "==============================================================================\n",
      "\n",
      "F-test for Poolability: 27.061\n",
      "P-value: 0.0000\n",
      "Distribution: F(79,1519)\n",
      "\n",
      "Included effects: Entity\n"
     ]
    }
   ],
   "source": [
    "sharedRegression = gen_panel_ols(sharedData,indices, depVarSingle, indepVar)"
   ]
  },
  {
   "cell_type": "code",
   "execution_count": 29,
   "metadata": {},
   "outputs": [],
   "source": [
    "#panelData = gen_data_panel_ols(mgpggdf, indices, depVarSingle,indepVar)"
   ]
  }
 ],
 "metadata": {
  "kernelspec": {
   "display_name": "base",
   "language": "python",
   "name": "python3"
  },
  "language_info": {
   "codemirror_mode": {
    "name": "ipython",
    "version": 3
   },
   "file_extension": ".py",
   "mimetype": "text/x-python",
   "name": "python",
   "nbconvert_exporter": "python",
   "pygments_lexer": "ipython3",
   "version": "3.9.12"
  },
  "orig_nbformat": 4
 },
 "nbformat": 4,
 "nbformat_minor": 2
}
