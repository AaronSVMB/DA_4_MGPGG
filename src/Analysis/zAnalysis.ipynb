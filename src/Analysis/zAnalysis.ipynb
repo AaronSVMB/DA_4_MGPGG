{
 "cells": [
  {
   "cell_type": "markdown",
   "metadata": {},
   "source": [
    "# MGPGG Analysis Functionality"
   ]
  },
  {
   "cell_type": "markdown",
   "metadata": {},
   "source": [
    "## Imports"
   ]
  },
  {
   "cell_type": "code",
   "execution_count": 1,
   "metadata": {},
   "outputs": [],
   "source": [
    "import pandas as pd\n",
    "from analysis_utils import (gen_avg_invest_per_group_per_treatment_list, \n",
    "                            gen_first_period_list,\n",
    "                            gen_investment_avg_invest_per_period,\n",
    "                            gen_avg_invest_plots,\n",
    "                            gen_invest_subsets,\n",
    "                            gen_avg_investment_per_participant_all_treatments,\n",
    "                            gen_gender_split,\n",
    "                            gen_data_panel_ols)\n",
    "from stat_tests_utils import (gen_t_stat,\n",
    "                              gen_tukey_test,\n",
    "                              gen_kruskal_wallis_and_conover_iman)\n",
    "from regression_utils import (gen_panel_ols)"
   ]
  },
  {
   "cell_type": "markdown",
   "metadata": {},
   "source": [
    "## Code Test"
   ]
  },
  {
   "cell_type": "markdown",
   "metadata": {},
   "source": [
    "### Read Data"
   ]
  },
  {
   "cell_type": "code",
   "execution_count": 2,
   "metadata": {},
   "outputs": [],
   "source": [
    "mgpggdf = pd.read_csv('/Users/aaronberman/Desktop/DA_4_MGPGG/src/zBigData/mgpgg_df_9_25_23.csv')"
   ]
  },
  {
   "cell_type": "markdown",
   "metadata": {},
   "source": [
    "### Avg Invest per treatment "
   ]
  },
  {
   "cell_type": "code",
   "execution_count": 3,
   "metadata": {},
   "outputs": [
    {
     "data": {
      "text/plain": [
       "[{'treatment': 'single',\n",
       "  'average_investment': 8.38046875,\n",
       "  'investment_std': 6.175926916262815},\n",
       " {'treatment': 'split',\n",
       "  'avg_blue_investment': 4.43046875,\n",
       "  'std_blue': 3.4719710609796155,\n",
       "  'avg_green_investment': 4.36640625,\n",
       "  'std_green': 3.4199382585849767,\n",
       "  'avg_both': 8.796875,\n",
       "  'std_both': 3.4455284323590494},\n",
       " {'treatment': 'shared',\n",
       "  'avg_blue_investment': 6.828125,\n",
       "  'std_blue': 5.726786264790733,\n",
       "  'avg_green_investment': 4.3109375,\n",
       "  'std_green': 4.199877774292867,\n",
       "  'avg_both': 11.1390625,\n",
       "  'std_both': 5.176132718252052}]"
      ]
     },
     "execution_count": 3,
     "metadata": {},
     "output_type": "execute_result"
    }
   ],
   "source": [
    "avg_list = gen_avg_invest_per_group_per_treatment_list(mgpggdf)\n",
    "avg_list"
   ]
  },
  {
   "cell_type": "markdown",
   "metadata": {},
   "source": [
    "### Avg invest 1st period"
   ]
  },
  {
   "cell_type": "code",
   "execution_count": 4,
   "metadata": {},
   "outputs": [
    {
     "data": {
      "text/plain": [
       "[{'treatment': 'single',\n",
       "  'average_investment': 9.71875,\n",
       "  'investment_std': 5.1191168323117155},\n",
       " {'treatment': 'split',\n",
       "  'avg_blue_investment': 6.5,\n",
       "  'std_blue': 2.7945525240230875,\n",
       "  'avg_green_investment': 6.5,\n",
       "  'std_green': 2.7487370837451075,\n",
       "  'avg_both': 13.0,\n",
       "  'std_both': 2.7608055426078977},\n",
       " {'treatment': 'shared',\n",
       "  'avg_blue_investment': 6.828125,\n",
       "  'std_blue': 3.548103394549361,\n",
       "  'avg_green_investment': 6.1875,\n",
       "  'std_green': 2.9486343354923545,\n",
       "  'avg_both': 13.015625,\n",
       "  'std_both': 3.2651731664777928}]"
      ]
     },
     "execution_count": 4,
     "metadata": {},
     "output_type": "execute_result"
    }
   ],
   "source": [
    "first_period_avg_invest = gen_first_period_list(mgpggdf)\n",
    "first_period_avg_invest"
   ]
  },
  {
   "cell_type": "markdown",
   "metadata": {},
   "source": [
    "# Avg invest per period"
   ]
  },
  {
   "cell_type": "code",
   "execution_count": 5,
   "metadata": {},
   "outputs": [
    {
     "data": {
      "text/plain": [
       "{'period_1': 9.71875,\n",
       " 'period_2': 10.96875,\n",
       " 'period_3': 11.171875,\n",
       " 'period_4': 10.203125,\n",
       " 'period_5': 9.34375,\n",
       " 'period_6': 9.5625,\n",
       " 'period_7': 8.5,\n",
       " 'period_8': 8.03125,\n",
       " 'period_9': 8.359375,\n",
       " 'period_10': 8.359375,\n",
       " 'period_11': 8.390625,\n",
       " 'period_12': 8.453125,\n",
       " 'period_13': 7.96875,\n",
       " 'period_14': 7.28125,\n",
       " 'period_15': 7.8125,\n",
       " 'period_16': 7.171875,\n",
       " 'period_17': 6.796875,\n",
       " 'period_18': 7.40625,\n",
       " 'period_19': 6.421875,\n",
       " 'period_20': 5.6875}"
      ]
     },
     "execution_count": 5,
     "metadata": {},
     "output_type": "execute_result"
    }
   ],
   "source": [
    "singlePP = gen_investment_avg_invest_per_period(mgpggdf, 'single')\n",
    "singlePP"
   ]
  },
  {
   "cell_type": "code",
   "execution_count": 6,
   "metadata": {},
   "outputs": [
    {
     "data": {
      "text/plain": [
       "{'period_1': 13.0,\n",
       " 'period_2': 12.90625,\n",
       " 'period_3': 12.203125,\n",
       " 'period_4': 10.703125,\n",
       " 'period_5': 10.453125,\n",
       " 'period_6': 10.265625,\n",
       " 'period_7': 9.515625,\n",
       " 'period_8': 9.21875,\n",
       " 'period_9': 7.5625,\n",
       " 'period_10': 8.71875,\n",
       " 'period_11': 8.875,\n",
       " 'period_12': 7.453125,\n",
       " 'period_13': 7.140625,\n",
       " 'period_14': 6.90625,\n",
       " 'period_15': 6.859375,\n",
       " 'period_16': 6.828125,\n",
       " 'period_17': 7.15625,\n",
       " 'period_18': 6.484375,\n",
       " 'period_19': 7.28125,\n",
       " 'period_20': 6.40625}"
      ]
     },
     "execution_count": 6,
     "metadata": {},
     "output_type": "execute_result"
    }
   ],
   "source": [
    "splitBlue, splitGreen, splitPP = gen_investment_avg_invest_per_period(mgpggdf, 'split')\n",
    "splitPP"
   ]
  },
  {
   "cell_type": "code",
   "execution_count": 7,
   "metadata": {},
   "outputs": [
    {
     "data": {
      "text/plain": [
       "{'period_1': 13.015625,\n",
       " 'period_2': 14.359375,\n",
       " 'period_3': 14.328125,\n",
       " 'period_4': 13.734375,\n",
       " 'period_5': 13.5,\n",
       " 'period_6': 11.6875,\n",
       " 'period_7': 12.65625,\n",
       " 'period_8': 12.828125,\n",
       " 'period_9': 11.421875,\n",
       " 'period_10': 10.40625,\n",
       " 'period_11': 10.03125,\n",
       " 'period_12': 10.046875,\n",
       " 'period_13': 10.03125,\n",
       " 'period_14': 10.390625,\n",
       " 'period_15': 10.140625,\n",
       " 'period_16': 9.859375,\n",
       " 'period_17': 9.296875,\n",
       " 'period_18': 8.90625,\n",
       " 'period_19': 8.546875,\n",
       " 'period_20': 7.59375}"
      ]
     },
     "execution_count": 7,
     "metadata": {},
     "output_type": "execute_result"
    }
   ],
   "source": [
    "sharedBlue, sharedGreen, sharedPP = gen_investment_avg_invest_per_period(mgpggdf, 'shared')\n",
    "sharedPP"
   ]
  },
  {
   "cell_type": "markdown",
   "metadata": {},
   "source": [
    "#### Plots "
   ]
  },
  {
   "cell_type": "code",
   "execution_count": 8,
   "metadata": {},
   "outputs": [
    {
     "data": {
      "image/png": "[encoded data removed]",
      "text/plain": [
       "<Figure size 432x288 with 1 Axes>"
      ]
     },
     "metadata": {
      "needs_background": "light"
     },
     "output_type": "display_data"
    }
   ],
   "source": [
    "gen_avg_invest_plots(mgpggdf, singlePP, splitPP, sharedPP)"
   ]
  },
  {
   "cell_type": "markdown",
   "metadata": {},
   "source": [
    "# Grouped Period Avgs"
   ]
  },
  {
   "cell_type": "code",
   "execution_count": 9,
   "metadata": {},
   "outputs": [
    {
     "data": {
      "text/plain": [
       "{'period_1': 9.71875,\n",
       " 'period_2_to_10': 9.38888888888889,\n",
       " 'period_11_to_20': 7.3390625}"
      ]
     },
     "execution_count": 9,
     "metadata": {},
     "output_type": "execute_result"
    }
   ],
   "source": [
    "singleTrend = gen_invest_subsets(singlePP)\n",
    "singleTrend"
   ]
  },
  {
   "cell_type": "code",
   "execution_count": 10,
   "metadata": {},
   "outputs": [
    {
     "data": {
      "text/plain": [
       "{'period_1': 13.0, 'period_2_to_10': 10.171875, 'period_11_to_20': 7.1390625}"
      ]
     },
     "execution_count": 10,
     "metadata": {},
     "output_type": "execute_result"
    }
   ],
   "source": [
    "splitTrend = gen_invest_subsets(splitPP)\n",
    "splitTrend"
   ]
  },
  {
   "cell_type": "code",
   "execution_count": 11,
   "metadata": {},
   "outputs": [
    {
     "data": {
      "text/plain": [
       "{'period_1': 13.015625,\n",
       " 'period_2_to_10': 12.769097222222221,\n",
       " 'period_11_to_20': 9.484375}"
      ]
     },
     "execution_count": 11,
     "metadata": {},
     "output_type": "execute_result"
    }
   ],
   "source": [
    "sharedTrend = gen_invest_subsets(sharedPP)\n",
    "sharedTrend"
   ]
  },
  {
   "cell_type": "markdown",
   "metadata": {},
   "source": [
    "# Avg Invest Per Participant"
   ]
  },
  {
   "cell_type": "code",
   "execution_count": 12,
   "metadata": {},
   "outputs": [],
   "source": [
    "single_per_participant, split_per_participant, shared_per_participant = gen_avg_investment_per_participant_all_treatments(mgpggdf)"
   ]
  },
  {
   "cell_type": "code",
   "execution_count": 13,
   "metadata": {},
   "outputs": [
    {
     "data": {
      "text/plain": [
       "participant.code\n",
       "02yoiini     1.50\n",
       "0j7kfhln    12.20\n",
       "3glo2sut    14.35\n",
       "3t1yd76e     4.80\n",
       "3wsimfx1     4.55\n",
       "            ...  \n",
       "ybvwpn29     6.65\n",
       "ydgp2bha     7.60\n",
       "yk6lhwal     6.10\n",
       "ztrzsad5     5.20\n",
       "zu546g9a     7.90\n",
       "Name: player.investment, Length: 64, dtype: float64"
      ]
     },
     "execution_count": 13,
     "metadata": {},
     "output_type": "execute_result"
    }
   ],
   "source": [
    "single_per_participant"
   ]
  },
  {
   "cell_type": "code",
   "execution_count": 14,
   "metadata": {},
   "outputs": [
    {
     "data": {
      "text/plain": [
       "participant.code\n",
       "23a2mmhm    10.55\n",
       "2pdifgop     1.40\n",
       "3vg1nnb5    10.60\n",
       "40c3ecb0     5.85\n",
       "578shq6u     8.40\n",
       "            ...  \n",
       "y9eborjq     0.00\n",
       "yx3p0b6v     7.35\n",
       "zelu4yvk    12.20\n",
       "znwkezuw    10.40\n",
       "zx92uamy     7.70\n",
       "Length: 64, dtype: float64"
      ]
     },
     "execution_count": 14,
     "metadata": {},
     "output_type": "execute_result"
    }
   ],
   "source": [
    "split_per_participant"
   ]
  },
  {
   "cell_type": "code",
   "execution_count": 15,
   "metadata": {},
   "outputs": [
    {
     "data": {
      "text/plain": [
       "participant.code\n",
       "14prhddm    19.95\n",
       "1e0xptl3     8.45\n",
       "1ef36mxh     6.05\n",
       "29tlrw6l    15.40\n",
       "2wa1hn3y     7.50\n",
       "            ...  \n",
       "zjk0f1ye    12.00\n",
       "zkquw8f4    10.30\n",
       "zl7cdh1u    10.40\n",
       "znlu9jpg    12.40\n",
       "zq928mn2    13.35\n",
       "Length: 64, dtype: float64"
      ]
     },
     "execution_count": 15,
     "metadata": {},
     "output_type": "execute_result"
    }
   ],
   "source": [
    "shared_per_participant"
   ]
  },
  {
   "cell_type": "markdown",
   "metadata": {},
   "source": [
    "## Statistical Test"
   ]
  },
  {
   "cell_type": "markdown",
   "metadata": {},
   "source": [
    "### t-tests"
   ]
  },
  {
   "cell_type": "code",
   "execution_count": 16,
   "metadata": {},
   "outputs": [
    {
     "name": "stdout",
     "output_type": "stream",
     "text": [
      "t-statistic: -0.5925972053365383\n",
      "p-value: 0.5545662550376598\n",
      "Fail to reject the null hypothesis: No evidence that the means are different\n"
     ]
    }
   ],
   "source": [
    "singleSplitTTest = gen_t_stat(single_per_participant, split_per_participant)"
   ]
  },
  {
   "cell_type": "code",
   "execution_count": 17,
   "metadata": {},
   "outputs": [
    {
     "name": "stdout",
     "output_type": "stream",
     "text": [
      "t-statistic: -3.042607758862884\n",
      "p-value: 0.0029224035122727707\n",
      "Reject the null hypothesis: The means are different\n"
     ]
    }
   ],
   "source": [
    "splitSharedTTest = gen_t_stat(split_per_participant, shared_per_participant)"
   ]
  },
  {
   "cell_type": "code",
   "execution_count": 18,
   "metadata": {},
   "outputs": [
    {
     "name": "stdout",
     "output_type": "stream",
     "text": [
      "t-statistic: -3.289028854114417\n",
      "p-value: 0.0013098970466743176\n",
      "Reject the null hypothesis: The means are different\n"
     ]
    }
   ],
   "source": [
    "singleSharedTTest = gen_t_stat(single_per_participant, shared_per_participant)"
   ]
  },
  {
   "cell_type": "markdown",
   "metadata": {},
   "source": [
    "### Tukey mult comparison"
   ]
  },
  {
   "cell_type": "code",
   "execution_count": 19,
   "metadata": {},
   "outputs": [
    {
     "name": "stdout",
     "output_type": "stream",
     "text": [
      "Multiple Comparison of Means - Tukey HSD, FWER=0.05 \n",
      "====================================================\n",
      "group1 group2 meandiff p-adj   lower   upper  reject\n",
      "----------------------------------------------------\n",
      "shared single  -2.7586 0.0013 -4.5833 -0.9339   True\n",
      "shared  split  -2.3422 0.0078 -4.1668 -0.5175   True\n",
      "single  split   0.4164 0.8521 -1.4083  2.2411  False\n",
      "----------------------------------------------------\n"
     ]
    },
    {
     "data": {
      "image/png": "[encoded data removed]",
      "text/plain": [
       "<Figure size 720x432 with 1 Axes>"
      ]
     },
     "metadata": {
      "needs_background": "light"
     },
     "output_type": "display_data"
    }
   ],
   "source": [
    "gen_tukey_test(single_per_participant, split_per_participant, shared_per_participant)"
   ]
  },
  {
   "cell_type": "markdown",
   "metadata": {},
   "source": [
    "### Non-parametric multiple comparison"
   ]
  },
  {
   "cell_type": "code",
   "execution_count": 20,
   "metadata": {},
   "outputs": [
    {
     "name": "stdout",
     "output_type": "stream",
     "text": [
      "Kruskal-Wallis H-test statistic: 14.648082470961315\n",
      "P-value: 0.0006594916575929248\n",
      "Conover-Iman posthoc test with Bonferroni adjustment:\n",
      "          shared    single    split\n",
      "shared  1.000000  0.000597  0.01314\n",
      "single  0.000597  1.000000  1.00000\n",
      "split   0.013140  1.000000  1.00000\n"
     ]
    }
   ],
   "source": [
    "gen_kruskal_wallis_and_conover_iman(single_per_participant, split_per_participant, shared_per_participant)"
   ]
  },
  {
   "cell_type": "markdown",
   "metadata": {},
   "source": [
    "### Gender Difference"
   ]
  },
  {
   "cell_type": "code",
   "execution_count": 21,
   "metadata": {},
   "outputs": [],
   "source": [
    "femaleDf, maleDf = gen_gender_split(mgpggdf)"
   ]
  },
  {
   "cell_type": "code",
   "execution_count": 22,
   "metadata": {},
   "outputs": [
    {
     "name": "stdout",
     "output_type": "stream",
     "text": [
      "t-statistic: -0.6494430490358385\n",
      "p-value: 0.5176909834387726\n",
      "Fail to reject the null hypothesis: No evidence that the means are different\n"
     ]
    }
   ],
   "source": [
    "genderTStat, genderPValue = gen_t_stat(femaleDf, maleDf)"
   ]
  },
  {
   "cell_type": "markdown",
   "metadata": {},
   "source": [
    "## Regressions"
   ]
  },
  {
   "cell_type": "markdown",
   "metadata": {},
   "source": [
    "### panel ols"
   ]
  },
  {
   "cell_type": "code",
   "execution_count": 23,
   "metadata": {},
   "outputs": [],
   "source": [
    "indices = ['participant.code', 'subsession.round_number']\n",
    "depVarSingle = 'player.investment'\n",
    "indepVar = ['RoumdIndep']"
   ]
  },
  {
   "cell_type": "code",
   "execution_count": 24,
   "metadata": {},
   "outputs": [
    {
     "data": {
      "text/html": [
       "<div>\n",
       "<style scoped>\n",
       "    .dataframe tbody tr th:only-of-type {\n",
       "        vertical-align: middle;\n",
       "    }\n",
       "\n",
       "    .dataframe tbody tr th {\n",
       "        vertical-align: top;\n",
       "    }\n",
       "\n",
       "    .dataframe thead th {\n",
       "        text-align: right;\n",
       "    }\n",
       "</style>\n",
       "<table border=\"1\" class=\"dataframe\">\n",
       "  <thead>\n",
       "    <tr style=\"text-align: right;\">\n",
       "      <th></th>\n",
       "      <th>pgg_treatment_applied</th>\n",
       "      <th>participant.code</th>\n",
       "      <th>player.investment</th>\n",
       "      <th>subsession.round_number</th>\n",
       "      <th>RoumdIndep</th>\n",
       "    </tr>\n",
       "  </thead>\n",
       "  <tbody>\n",
       "    <tr>\n",
       "      <th>0</th>\n",
       "      <td>single</td>\n",
       "      <td>byr62fae</td>\n",
       "      <td>12.0</td>\n",
       "      <td>1</td>\n",
       "      <td>1</td>\n",
       "    </tr>\n",
       "    <tr>\n",
       "      <th>1</th>\n",
       "      <td>single</td>\n",
       "      <td>byr62fae</td>\n",
       "      <td>16.0</td>\n",
       "      <td>2</td>\n",
       "      <td>2</td>\n",
       "    </tr>\n",
       "    <tr>\n",
       "      <th>2</th>\n",
       "      <td>single</td>\n",
       "      <td>byr62fae</td>\n",
       "      <td>20.0</td>\n",
       "      <td>3</td>\n",
       "      <td>3</td>\n",
       "    </tr>\n",
       "    <tr>\n",
       "      <th>3</th>\n",
       "      <td>single</td>\n",
       "      <td>byr62fae</td>\n",
       "      <td>20.0</td>\n",
       "      <td>4</td>\n",
       "      <td>4</td>\n",
       "    </tr>\n",
       "    <tr>\n",
       "      <th>4</th>\n",
       "      <td>single</td>\n",
       "      <td>byr62fae</td>\n",
       "      <td>20.0</td>\n",
       "      <td>5</td>\n",
       "      <td>5</td>\n",
       "    </tr>\n",
       "    <tr>\n",
       "      <th>...</th>\n",
       "      <td>...</td>\n",
       "      <td>...</td>\n",
       "      <td>...</td>\n",
       "      <td>...</td>\n",
       "      <td>...</td>\n",
       "    </tr>\n",
       "    <tr>\n",
       "      <th>1275</th>\n",
       "      <td>single</td>\n",
       "      <td>ztrzsad5</td>\n",
       "      <td>5.0</td>\n",
       "      <td>16</td>\n",
       "      <td>16</td>\n",
       "    </tr>\n",
       "    <tr>\n",
       "      <th>1276</th>\n",
       "      <td>single</td>\n",
       "      <td>ztrzsad5</td>\n",
       "      <td>2.0</td>\n",
       "      <td>17</td>\n",
       "      <td>17</td>\n",
       "    </tr>\n",
       "    <tr>\n",
       "      <th>1277</th>\n",
       "      <td>single</td>\n",
       "      <td>ztrzsad5</td>\n",
       "      <td>10.0</td>\n",
       "      <td>18</td>\n",
       "      <td>18</td>\n",
       "    </tr>\n",
       "    <tr>\n",
       "      <th>1278</th>\n",
       "      <td>single</td>\n",
       "      <td>ztrzsad5</td>\n",
       "      <td>3.0</td>\n",
       "      <td>19</td>\n",
       "      <td>19</td>\n",
       "    </tr>\n",
       "    <tr>\n",
       "      <th>1279</th>\n",
       "      <td>single</td>\n",
       "      <td>ztrzsad5</td>\n",
       "      <td>0.0</td>\n",
       "      <td>20</td>\n",
       "      <td>20</td>\n",
       "    </tr>\n",
       "  </tbody>\n",
       "</table>\n",
       "<p>1280 rows × 5 columns</p>\n",
       "</div>"
      ],
      "text/plain": [
       "     pgg_treatment_applied participant.code  player.investment  \\\n",
       "0                   single         byr62fae               12.0   \n",
       "1                   single         byr62fae               16.0   \n",
       "2                   single         byr62fae               20.0   \n",
       "3                   single         byr62fae               20.0   \n",
       "4                   single         byr62fae               20.0   \n",
       "...                    ...              ...                ...   \n",
       "1275                single         ztrzsad5                5.0   \n",
       "1276                single         ztrzsad5                2.0   \n",
       "1277                single         ztrzsad5               10.0   \n",
       "1278                single         ztrzsad5                3.0   \n",
       "1279                single         ztrzsad5                0.0   \n",
       "\n",
       "      subsession.round_number  RoumdIndep  \n",
       "0                           1           1  \n",
       "1                           2           2  \n",
       "2                           3           3  \n",
       "3                           4           4  \n",
       "4                           5           5  \n",
       "...                       ...         ...  \n",
       "1275                       16          16  \n",
       "1276                       17          17  \n",
       "1277                       18          18  \n",
       "1278                       19          19  \n",
       "1279                       20          20  \n",
       "\n",
       "[1280 rows x 5 columns]"
      ]
     },
     "execution_count": 24,
     "metadata": {},
     "output_type": "execute_result"
    }
   ],
   "source": [
    "singleData = mgpggdf.loc[:, ['pgg_treatment_applied','participant.code', 'player.investment', 'subsession.round_number'] ]\n",
    "singleData = singleData.loc[singleData['pgg_treatment_applied'] == 'single']\n",
    "singleData['RoumdIndep'] = singleData['subsession.round_number']\n",
    "singleData"
   ]
  },
  {
   "cell_type": "code",
   "execution_count": 25,
   "metadata": {},
   "outputs": [
    {
     "name": "stdout",
     "output_type": "stream",
     "text": [
      "                          PanelOLS Estimation Summary                           \n",
      "================================================================================\n",
      "Dep. Variable:      player.investment   R-squared:                        0.0904\n",
      "Estimator:                   PanelOLS   R-squared (Between):              0.0000\n",
      "No. Observations:                1280   R-squared (Within):               0.0904\n",
      "Date:                Mon, Sep 25 2023   R-squared (Overall):              0.0452\n",
      "Time:                        18:31:14   Log-likelihood                   -3642.3\n",
      "Cov. Estimator:            Unadjusted                                           \n",
      "                                        F-statistic:                      120.77\n",
      "Entities:                          64   P-value                           0.0000\n",
      "Avg Obs:                       20.000   Distribution:                  F(1,1215)\n",
      "Min Obs:                       20.000                                           \n",
      "Max Obs:                       20.000   F-statistic (robust):             120.77\n",
      "                                        P-value                           0.0000\n",
      "Time periods:                      20   Distribution:                  F(1,1215)\n",
      "Avg Obs:                       64.000                                           \n",
      "Min Obs:                       64.000                                           \n",
      "Max Obs:                       64.000                                           \n",
      "                                                                                \n",
      "                             Parameter Estimates                              \n",
      "==============================================================================\n",
      "            Parameter  Std. Err.     T-stat    P-value    Lower CI    Upper CI\n",
      "------------------------------------------------------------------------------\n",
      "const          10.771     0.2482     43.398     0.0000      10.284      11.258\n",
      "RoumdIndep    -0.2277     0.0207    -10.989     0.0000     -0.2683     -0.1870\n",
      "==============================================================================\n",
      "\n",
      "F-test for Poolability: 21.180\n",
      "P-value: 0.0000\n",
      "Distribution: F(63,1215)\n",
      "\n",
      "Included effects: Entity\n"
     ]
    }
   ],
   "source": [
    "singleRegression = gen_panel_ols(singleData,indices, depVarSingle, indepVar)"
   ]
  },
  {
   "cell_type": "code",
   "execution_count": 26,
   "metadata": {},
   "outputs": [],
   "source": [
    "indices = ['participant.code', 'subsession.round_number']\n",
    "depVarSingle = 'player.personal_account'\n",
    "indepVar = ['RoumdIndep']"
   ]
  },
  {
   "cell_type": "code",
   "execution_count": 27,
   "metadata": {},
   "outputs": [
    {
     "data": {
      "text/html": [
       "<div>\n",
       "<style scoped>\n",
       "    .dataframe tbody tr th:only-of-type {\n",
       "        vertical-align: middle;\n",
       "    }\n",
       "\n",
       "    .dataframe tbody tr th {\n",
       "        vertical-align: top;\n",
       "    }\n",
       "\n",
       "    .dataframe thead th {\n",
       "        text-align: right;\n",
       "    }\n",
       "</style>\n",
       "<table border=\"1\" class=\"dataframe\">\n",
       "  <thead>\n",
       "    <tr style=\"text-align: right;\">\n",
       "      <th></th>\n",
       "      <th>pgg_treatment_applied</th>\n",
       "      <th>participant.code</th>\n",
       "      <th>player.personal_account</th>\n",
       "      <th>subsession.round_number</th>\n",
       "      <th>RoumdIndep</th>\n",
       "    </tr>\n",
       "  </thead>\n",
       "  <tbody>\n",
       "    <tr>\n",
       "      <th>2560</th>\n",
       "      <td>shared</td>\n",
       "      <td>znlu9jpg</td>\n",
       "      <td>6.0</td>\n",
       "      <td>1</td>\n",
       "      <td>1</td>\n",
       "    </tr>\n",
       "    <tr>\n",
       "      <th>2561</th>\n",
       "      <td>shared</td>\n",
       "      <td>znlu9jpg</td>\n",
       "      <td>2.0</td>\n",
       "      <td>2</td>\n",
       "      <td>2</td>\n",
       "    </tr>\n",
       "    <tr>\n",
       "      <th>2562</th>\n",
       "      <td>shared</td>\n",
       "      <td>znlu9jpg</td>\n",
       "      <td>5.0</td>\n",
       "      <td>3</td>\n",
       "      <td>3</td>\n",
       "    </tr>\n",
       "    <tr>\n",
       "      <th>2563</th>\n",
       "      <td>shared</td>\n",
       "      <td>znlu9jpg</td>\n",
       "      <td>8.0</td>\n",
       "      <td>4</td>\n",
       "      <td>4</td>\n",
       "    </tr>\n",
       "    <tr>\n",
       "      <th>2564</th>\n",
       "      <td>shared</td>\n",
       "      <td>znlu9jpg</td>\n",
       "      <td>12.0</td>\n",
       "      <td>5</td>\n",
       "      <td>5</td>\n",
       "    </tr>\n",
       "    <tr>\n",
       "      <th>...</th>\n",
       "      <td>...</td>\n",
       "      <td>...</td>\n",
       "      <td>...</td>\n",
       "      <td>...</td>\n",
       "      <td>...</td>\n",
       "    </tr>\n",
       "    <tr>\n",
       "      <th>3835</th>\n",
       "      <td>shared</td>\n",
       "      <td>7f6vtjiv</td>\n",
       "      <td>9.0</td>\n",
       "      <td>16</td>\n",
       "      <td>16</td>\n",
       "    </tr>\n",
       "    <tr>\n",
       "      <th>3836</th>\n",
       "      <td>shared</td>\n",
       "      <td>7f6vtjiv</td>\n",
       "      <td>14.0</td>\n",
       "      <td>17</td>\n",
       "      <td>17</td>\n",
       "    </tr>\n",
       "    <tr>\n",
       "      <th>3837</th>\n",
       "      <td>shared</td>\n",
       "      <td>7f6vtjiv</td>\n",
       "      <td>14.0</td>\n",
       "      <td>18</td>\n",
       "      <td>18</td>\n",
       "    </tr>\n",
       "    <tr>\n",
       "      <th>3838</th>\n",
       "      <td>shared</td>\n",
       "      <td>7f6vtjiv</td>\n",
       "      <td>18.0</td>\n",
       "      <td>19</td>\n",
       "      <td>19</td>\n",
       "    </tr>\n",
       "    <tr>\n",
       "      <th>3839</th>\n",
       "      <td>shared</td>\n",
       "      <td>7f6vtjiv</td>\n",
       "      <td>15.0</td>\n",
       "      <td>20</td>\n",
       "      <td>20</td>\n",
       "    </tr>\n",
       "  </tbody>\n",
       "</table>\n",
       "<p>1280 rows × 5 columns</p>\n",
       "</div>"
      ],
      "text/plain": [
       "     pgg_treatment_applied participant.code  player.personal_account  \\\n",
       "2560                shared         znlu9jpg                      6.0   \n",
       "2561                shared         znlu9jpg                      2.0   \n",
       "2562                shared         znlu9jpg                      5.0   \n",
       "2563                shared         znlu9jpg                      8.0   \n",
       "2564                shared         znlu9jpg                     12.0   \n",
       "...                    ...              ...                      ...   \n",
       "3835                shared         7f6vtjiv                      9.0   \n",
       "3836                shared         7f6vtjiv                     14.0   \n",
       "3837                shared         7f6vtjiv                     14.0   \n",
       "3838                shared         7f6vtjiv                     18.0   \n",
       "3839                shared         7f6vtjiv                     15.0   \n",
       "\n",
       "      subsession.round_number  RoumdIndep  \n",
       "2560                        1           1  \n",
       "2561                        2           2  \n",
       "2562                        3           3  \n",
       "2563                        4           4  \n",
       "2564                        5           5  \n",
       "...                       ...         ...  \n",
       "3835                       16          16  \n",
       "3836                       17          17  \n",
       "3837                       18          18  \n",
       "3838                       19          19  \n",
       "3839                       20          20  \n",
       "\n",
       "[1280 rows x 5 columns]"
      ]
     },
     "execution_count": 27,
     "metadata": {},
     "output_type": "execute_result"
    }
   ],
   "source": [
    "sharedData = mgpggdf.loc[:, ['pgg_treatment_applied','participant.code', 'player.personal_account', 'subsession.round_number'] ]\n",
    "sharedData = sharedData.loc[sharedData['pgg_treatment_applied'] == 'shared']\n",
    "sharedData['RoumdIndep'] = sharedData['subsession.round_number']\n",
    "sharedData"
   ]
  },
  {
   "cell_type": "code",
   "execution_count": 28,
   "metadata": {},
   "outputs": [
    {
     "name": "stdout",
     "output_type": "stream",
     "text": [
      "                             PanelOLS Estimation Summary                             \n",
      "=====================================================================================\n",
      "Dep. Variable:     player.personal_account   R-squared:                        0.1544\n",
      "Estimator:                        PanelOLS   R-squared (Between):              0.0000\n",
      "No. Observations:                     1280   R-squared (Within):               0.1544\n",
      "Date:                     Mon, Sep 25 2023   R-squared (Overall):              0.0726\n",
      "Time:                             18:31:14   Log-likelihood                   -3699.1\n",
      "Cov. Estimator:                 Unadjusted                                           \n",
      "                                             F-statistic:                      221.93\n",
      "Entities:                               64   P-value                           0.0000\n",
      "Avg Obs:                            20.000   Distribution:                  F(1,1215)\n",
      "Min Obs:                            20.000                                           \n",
      "Max Obs:                            20.000   F-statistic (robust):             221.93\n",
      "                                             P-value                           0.0000\n",
      "Time periods:                           20   Distribution:                  F(1,1215)\n",
      "Avg Obs:                            64.000                                           \n",
      "Min Obs:                            64.000                                           \n",
      "Max Obs:                            64.000                                           \n",
      "                                                                                     \n",
      "                             Parameter Estimates                              \n",
      "==============================================================================\n",
      "            Parameter  Std. Err.     T-stat    P-value    Lower CI    Upper CI\n",
      "------------------------------------------------------------------------------\n",
      "const          5.4729     0.2595     21.093     0.0000      4.9638      5.9819\n",
      "RoumdIndep     0.3227     0.0217     14.897     0.0000      0.2802      0.3652\n",
      "==============================================================================\n",
      "\n",
      "F-test for Poolability: 25.716\n",
      "P-value: 0.0000\n",
      "Distribution: F(63,1215)\n",
      "\n",
      "Included effects: Entity\n"
     ]
    }
   ],
   "source": [
    "sharedRegression = gen_panel_ols(sharedData,indices, depVarSingle, indepVar)"
   ]
  },
  {
   "cell_type": "code",
   "execution_count": 29,
   "metadata": {},
   "outputs": [],
   "source": [
    "#panelData = gen_data_panel_ols(mgpggdf, indices, depVarSingle,indepVar)"
   ]
  }
 ],
 "metadata": {
  "kernelspec": {
   "display_name": "base",
   "language": "python",
   "name": "python3"
  },
  "language_info": {
   "codemirror_mode": {
    "name": "ipython",
    "version": 3
   },
   "file_extension": ".py",
   "mimetype": "text/x-python",
   "name": "python",
   "nbconvert_exporter": "python",
   "pygments_lexer": "ipython3",
   "version": "3.9.12"
  },
  "orig_nbformat": 4
 },
 "nbformat": 4,
 "nbformat_minor": 2
}
