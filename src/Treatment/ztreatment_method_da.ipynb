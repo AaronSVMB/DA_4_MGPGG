{
 "cells": [
  {
   "cell_type": "markdown",
   "metadata": {},
   "source": [
    "# Treatment Code"
   ]
  },
  {
   "cell_type": "markdown",
   "metadata": {},
   "source": [
    "## Imports"
   ]
  },
  {
   "cell_type": "code",
   "execution_count": 1,
   "metadata": {},
   "outputs": [],
   "source": [
    "from treatment_data_clean_utils import (treatment_reading_and_cleaning, \n",
    "                                        shared_merge_game_and_instrucs, \n",
    "                                        split_merge_game_and_instrucs,\n",
    "                                        single_merge_game_and_instrucs,\n",
    "                                        gen_treatment_all_df)"
   ]
  },
  {
   "cell_type": "markdown",
   "metadata": {},
   "source": [
    "## Shared Endowment"
   ]
  },
  {
   "cell_type": "code",
   "execution_count": 2,
   "metadata": {},
   "outputs": [],
   "source": [
    "shared_instrucs_df = treatment_reading_and_cleaning('/Users/aaronberman/Desktop/DA_4_MGPGG/SharedInstrucsCompQs_2023-09-10.csv')\n",
    "shared_df = treatment_reading_and_cleaning('/Users/aaronberman/Desktop/DA_4_MGPGG/SharedEndowment_2023-09-10.csv')"
   ]
  },
  {
   "cell_type": "code",
   "execution_count": 3,
   "metadata": {},
   "outputs": [],
   "source": [
    "shared_all_df = shared_merge_game_and_instrucs(shared_df, shared_instrucs_df)"
   ]
  },
  {
   "cell_type": "code",
   "execution_count": 4,
   "metadata": {},
   "outputs": [],
   "source": [
    "shared_all_df.to_csv('shared_all_df.csv')"
   ]
  },
  {
   "cell_type": "markdown",
   "metadata": {},
   "source": [
    "## Split"
   ]
  },
  {
   "cell_type": "code",
   "execution_count": 5,
   "metadata": {},
   "outputs": [],
   "source": [
    "split_instrucs_df = treatment_reading_and_cleaning('/Users/aaronberman/Desktop/DA_4_MGPGG/SplitInstrucsCompQs_2023-09-10.csv')\n",
    "split_df = treatment_reading_and_cleaning('/Users/aaronberman/Desktop/DA_4_MGPGG/SplitEndowment_2023-09-10.csv')"
   ]
  },
  {
   "cell_type": "code",
   "execution_count": 6,
   "metadata": {},
   "outputs": [],
   "source": [
    "split_all_df = split_merge_game_and_instrucs(split_df, split_instrucs_df)"
   ]
  },
  {
   "cell_type": "code",
   "execution_count": 7,
   "metadata": {},
   "outputs": [],
   "source": [
    "split_all_df.to_csv('split_all_df.csv')"
   ]
  },
  {
   "cell_type": "markdown",
   "metadata": {},
   "source": [
    "## Single"
   ]
  },
  {
   "cell_type": "code",
   "execution_count": 8,
   "metadata": {},
   "outputs": [],
   "source": [
    "single_instrucs_df = treatment_reading_and_cleaning('/Users/aaronberman/Desktop/DA_4_MGPGG/SingleGroupInstrucsCompQs_2023-09-10.csv')\n",
    "single_df = treatment_reading_and_cleaning('/Users/aaronberman/Desktop/DA_4_MGPGG/SingleGroup_2023-09-10.csv')"
   ]
  },
  {
   "cell_type": "code",
   "execution_count": 9,
   "metadata": {},
   "outputs": [],
   "source": [
    "single_all_df = single_merge_game_and_instrucs(single_df, single_instrucs_df)"
   ]
  },
  {
   "cell_type": "code",
   "execution_count": 10,
   "metadata": {},
   "outputs": [],
   "source": [
    "single_all_df.to_csv('single_all_df.csv')"
   ]
  },
  {
   "cell_type": "markdown",
   "metadata": {},
   "source": [
    "## Combine"
   ]
  },
  {
   "cell_type": "code",
   "execution_count": 11,
   "metadata": {},
   "outputs": [],
   "source": [
    "all_treatment_df = gen_treatment_all_df(single_all_df, split_all_df, shared_all_df)"
   ]
  },
  {
   "cell_type": "code",
   "execution_count": 12,
   "metadata": {},
   "outputs": [],
   "source": [
    "all_treatment_df.to_csv('all_treatment_df.csv')"
   ]
  }
 ],
 "metadata": {
  "kernelspec": {
   "display_name": "base",
   "language": "python",
   "name": "python3"
  },
  "language_info": {
   "codemirror_mode": {
    "name": "ipython",
    "version": 3
   },
   "file_extension": ".py",
   "mimetype": "text/x-python",
   "name": "python",
   "nbconvert_exporter": "python",
   "pygments_lexer": "ipython3",
   "version": "3.9.12"
  },
  "orig_nbformat": 4
 },
 "nbformat": 4,
 "nbformat_minor": 2
}
