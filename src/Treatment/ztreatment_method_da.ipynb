{
 "cells": [
  {
   "cell_type": "markdown",
   "metadata": {},
   "source": [
    "# Treatment Code"
   ]
  },
  {
   "cell_type": "markdown",
   "metadata": {},
   "source": [
    "## Imports"
   ]
  },
  {
   "cell_type": "code",
   "execution_count": 13,
   "metadata": {},
   "outputs": [],
   "source": [
    "from treatment_data_clean_utils import (treatment_reading_and_cleaning, \n",
    "                                        shared_merge_game_and_instrucs, \n",
    "                                        split_merge_game_and_instrucs,\n",
    "                                        single_merge_game_and_instrucs,\n",
    "                                        gen_treatment_all_df)"
   ]
  },
  {
   "cell_type": "markdown",
   "metadata": {},
   "source": [
    "## Shared Endowment"
   ]
  },
  {
   "cell_type": "code",
   "execution_count": 14,
   "metadata": {},
   "outputs": [],
   "source": [
    "shared_instrucs_df = treatment_reading_and_cleaning('/Users/aaronberman/Desktop/DA_4_MGPGG/ToDate/SharedInstrucsCompQs_2023-09-26.csv')\n",
    "shared_df = treatment_reading_and_cleaning('/Users/aaronberman/Desktop/DA_4_MGPGG/ToDate/SharedEndowment_2023-09-26.csv')"
   ]
  },
  {
   "cell_type": "code",
   "execution_count": 15,
   "metadata": {},
   "outputs": [],
   "source": [
    "shared_all_df = shared_merge_game_and_instrucs(shared_df, shared_instrucs_df)"
   ]
  },
  {
   "cell_type": "code",
   "execution_count": 16,
   "metadata": {},
   "outputs": [],
   "source": [
    "shared_all_df.to_csv('shared_all_df.csv')"
   ]
  },
  {
   "cell_type": "markdown",
   "metadata": {},
   "source": [
    "## Split"
   ]
  },
  {
   "cell_type": "code",
   "execution_count": 17,
   "metadata": {},
   "outputs": [],
   "source": [
    "split_instrucs_df = treatment_reading_and_cleaning('/Users/aaronberman/Desktop/DA_4_MGPGG/ToDate/SplitInstrucsCompQs_2023-09-26.csv')\n",
    "split_df = treatment_reading_and_cleaning('/Users/aaronberman/Desktop/DA_4_MGPGG/ToDate/SplitEndowment_2023-09-26.csv')"
   ]
  },
  {
   "cell_type": "code",
   "execution_count": 18,
   "metadata": {},
   "outputs": [],
   "source": [
    "split_all_df = split_merge_game_and_instrucs(split_df, split_instrucs_df)"
   ]
  },
  {
   "cell_type": "code",
   "execution_count": 19,
   "metadata": {},
   "outputs": [],
   "source": [
    "split_all_df.to_csv('split_all_df.csv')"
   ]
  },
  {
   "cell_type": "markdown",
   "metadata": {},
   "source": [
    "## Single"
   ]
  },
  {
   "cell_type": "code",
   "execution_count": 20,
   "metadata": {},
   "outputs": [],
   "source": [
    "single_instrucs_df = treatment_reading_and_cleaning('/Users/aaronberman/Desktop/DA_4_MGPGG/ToDate/SingleGroupInstrucsCompQs_2023-09-26.csv')\n",
    "single_df = treatment_reading_and_cleaning('/Users/aaronberman/Desktop/DA_4_MGPGG/ToDate/SingleGroup_2023-09-26.csv')"
   ]
  },
  {
   "cell_type": "code",
   "execution_count": 21,
   "metadata": {},
   "outputs": [],
   "source": [
    "single_all_df = single_merge_game_and_instrucs(single_df, single_instrucs_df)"
   ]
  },
  {
   "cell_type": "code",
   "execution_count": 22,
   "metadata": {},
   "outputs": [],
   "source": [
    "single_all_df.to_csv('single_all_df.csv')"
   ]
  },
  {
   "cell_type": "markdown",
   "metadata": {},
   "source": [
    "## Combine"
   ]
  },
  {
   "cell_type": "code",
   "execution_count": 23,
   "metadata": {},
   "outputs": [],
   "source": [
    "all_treatment_df = gen_treatment_all_df(single_all_df, split_all_df, shared_all_df)"
   ]
  },
  {
   "cell_type": "code",
   "execution_count": 24,
   "metadata": {},
   "outputs": [],
   "source": [
    "all_treatment_df.to_csv('all_treatment_df.csv')"
   ]
  }
 ],
 "metadata": {
  "kernelspec": {
   "display_name": "base",
   "language": "python",
   "name": "python3"
  },
  "language_info": {
   "codemirror_mode": {
    "name": "ipython",
    "version": 3
   },
   "file_extension": ".py",
   "mimetype": "text/x-python",
   "name": "python",
   "nbconvert_exporter": "python",
   "pygments_lexer": "ipython3",
   "version": "3.9.12"
  },
  "orig_nbformat": 4
 },
 "nbformat": 4,
 "nbformat_minor": 2
}
